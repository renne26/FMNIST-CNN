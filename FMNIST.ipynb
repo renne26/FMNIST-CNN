{
 "cells": [
  {
   "cell_type": "markdown",
   "metadata": {},
   "source": [
    "# Importing Libraries #"
   ]
  },
  {
   "cell_type": "code",
   "execution_count": 1,
   "metadata": {},
   "outputs": [],
   "source": [
    "import pandas as pd\n",
    "import numpy as np\n",
    "import tensorflow as tf\n",
    "import tensorflow.keras as keras\n",
    "import tensorflow.keras.layers as layers\n",
    "\n",
    "import matplotlib.pyplot as plt\n",
    "import seaborn as sns"
   ]
  },
  {
   "cell_type": "markdown",
   "metadata": {},
   "source": [
    "# Loading the Dataset #"
   ]
  },
  {
   "cell_type": "markdown",
   "metadata": {},
   "source": [
    "Loading Dataset from keras"
   ]
  },
  {
   "cell_type": "code",
   "execution_count": 2,
   "metadata": {},
   "outputs": [],
   "source": [
    "(X_train, y_train), (X_test, y_test) = tf.keras.datasets.fashion_mnist.load_data()"
   ]
  },
  {
   "cell_type": "markdown",
   "metadata": {},
   "source": [
    "Dataset: Fashion MNIST  \n",
    "This is a dataset of 60,000 28x28 grayscale images of 10 fashion categories, along with a test set of 10,000 images. This dataset can be used as a drop-in replacement for MNIST."
   ]
  },
  {
   "cell_type": "markdown",
   "metadata": {},
   "source": [
    "The Classes are:\n",
    "\n",
    "| Label | Description |\n",
    "| --- | --- |\n",
    "| 0 | T-shirt/top |\n",
    "| 1 | Trouser |\n",
    "| 2 | Pullover |\n",
    "| 3 | Dress |\n",
    "| 4 | Coat |\n",
    "| 5 | Sandal |\n",
    "| 6 | Shirt |\n",
    "| 7 | Sneaker |\n",
    "| 8 | Bag |\n",
    "| 9 | Ankle boot |"
   ]
  },
  {
   "cell_type": "markdown",
   "metadata": {},
   "source": [
    "Creating Validation Data  \n",
    "Validation Data will be last 10000 images from the train set  \n",
    "The new train set will then be the first 50000 images  "
   ]
  },
  {
   "cell_type": "code",
   "execution_count": 3,
   "metadata": {},
   "outputs": [],
   "source": [
    "X_val = X_train[-10000:]\n",
    "y_val = y_train[-10000:]\n",
    "\n",
    "X_train = X_train[:-10000]\n",
    "y_train = y_train[:-10000]"
   ]
  },
  {
   "cell_type": "markdown",
   "metadata": {},
   "source": [
    "Class Labels"
   ]
  },
  {
   "cell_type": "code",
   "execution_count": 4,
   "metadata": {},
   "outputs": [],
   "source": [
    "class_names = {\n",
    "    0: 'T-shirt/top', 1: 'Trouser', 2: 'Pullover', 3: 'Dress', 4: 'Coat',\n",
    "    5: 'Sandal', 6: 'Shirt', 7: 'Sneaker', 8: 'Bag', 9: 'Ankle boot'\n",
    "}\n",
    "\n",
    "fmnist_numClasses = len(class_names)"
   ]
  },
  {
   "cell_type": "markdown",
   "metadata": {},
   "source": [
    "## Data Exploration ##"
   ]
  },
  {
   "cell_type": "markdown",
   "metadata": {},
   "source": [
    "Shape of the Arrays"
   ]
  },
  {
   "cell_type": "code",
   "execution_count": 5,
   "metadata": {},
   "outputs": [
    {
     "name": "stdout",
     "output_type": "stream",
     "text": [
      "Shape of X_train: (50000, 28, 28)\n",
      "Shape of y_train: (50000,)\n",
      "\n",
      "Shape of X_val: (10000, 28, 28)\n",
      "Shape of y_val: (10000,)\n",
      "\n",
      "Shape of X_test: (10000, 28, 28)\n",
      "Shape of y_test: (10000,)\n",
      "\n"
     ]
    }
   ],
   "source": [
    "print(f'Shape of X_train: {X_train.shape}')\n",
    "print(f'Shape of y_train: {y_train.shape}')\n",
    "print()\n",
    "\n",
    "print(f'Shape of X_val: {X_val.shape}')\n",
    "print(f'Shape of y_val: {y_val.shape}')\n",
    "print()\n",
    "\n",
    "print(f'Shape of X_test: {X_test.shape}')\n",
    "print(f'Shape of y_test: {y_test.shape}')\n",
    "print()"
   ]
  },
  {
   "cell_type": "markdown",
   "metadata": {},
   "source": [
    "Changing Data to Tensorflow Dataset"
   ]
  },
  {
   "cell_type": "code",
   "execution_count": 6,
   "metadata": {},
   "outputs": [],
   "source": [
    "trainDS = tf.data.Dataset.from_tensor_slices((X_train, y_train))\n",
    "valDS = tf.data.Dataset.from_tensor_slices((X_val, y_val))\n",
    "testDS = tf.data.Dataset.from_tensor_slices((X_test, y_test))"
   ]
  },
  {
   "cell_type": "markdown",
   "metadata": {},
   "source": [
    "Shuffling and batching the datasets"
   ]
  },
  {
   "cell_type": "code",
   "execution_count": 7,
   "metadata": {},
   "outputs": [],
   "source": [
    "BATCH_SIZE = 64\n",
    "SHUFFLE_BUFFER_SIZE = 1000\n",
    "\n",
    "trainDS = trainDS.shuffle(SHUFFLE_BUFFER_SIZE, seed=42).batch(BATCH_SIZE)\n",
    "valDS = valDS.batch(BATCH_SIZE)\n",
    "testDS = testDS.batch(BATCH_SIZE)"
   ]
  },
  {
   "cell_type": "markdown",
   "metadata": {},
   "source": [
    "Showing first 10 images from the training set"
   ]
  },
  {
   "cell_type": "code",
   "execution_count": 8,
   "metadata": {},
   "outputs": [
    {
     "data": {
      "image/png": "[encoded data removed]",
      "text/plain": [
       "<Figure size 1440x1440 with 10 Axes>"
      ]
     },
     "metadata": {
      "needs_background": "light"
     },
     "output_type": "display_data"
    }
   ],
   "source": [
    "plt.figure(figsize=(20, 20))\n",
    "\n",
    "for i in range(10):\n",
    "    plt.subplot(1, 10, i + 1)\n",
    "    plt.imshow(X_train[i], cmap='gray')\n",
    "    plt.title(class_names[y_train[i]])\n",
    "    plt.axis('off')\n",
    "\n",
    "plt.show()"
   ]
  },
  {
   "cell_type": "markdown",
   "metadata": {},
   "source": [
    "Applying Uniform Manifold Approximation & Projection"
   ]
  },
  {
   "cell_type": "code",
   "execution_count": 10,
   "metadata": {},
   "outputs": [
    {
     "name": "stdout",
     "output_type": "stream",
     "text": [
      "Shape of embedded images: (50000, 2)\n"
     ]
    }
   ],
   "source": [
    "import umap\n",
    "\n",
    "reducer = umap.UMAP()\n",
    "embedding = reducer.fit_transform(X_train.reshape(X_train.shape[0], X_train.shape[1] * X_train.shape[2]))\n",
    "print(f'Shape of embedded images: {embedding.shape}')"
   ]
  },
  {
   "cell_type": "markdown",
   "metadata": {},
   "source": [
    "From the UMAP plot, it can be seen that the dataset is not very complex and could somewhat be visualised on a 2 dimensional plane"
   ]
  },
  {
   "cell_type": "code",
   "execution_count": 12,
   "metadata": {},
   "outputs": [
    {
     "data": {
      "image/png": "[encoded data removed]",
      "text/plain": [
       "<Figure size 432x288 with 1 Axes>"
      ]
     },
     "metadata": {
      "needs_background": "light"
     },
     "output_type": "display_data"
    }
   ],
   "source": [
    "plt.figure(figsize=(20, 10))\n",
    "sns.scatterplot(x=embedding[:, 0], y=embedding[:, 1], hue=y_train)\n",
    "plt.show()"
   ]
  },
  {
   "cell_type": "markdown",
   "metadata": {},
   "source": [
    "# Data Augmentation Layers #"
   ]
  },
  {
   "cell_type": "code",
   "execution_count": 9,
   "metadata": {},
   "outputs": [],
   "source": [
    "input = layers.Input((28, 28, 1))\n",
    "x = layers.RandomFlip('horizontal', seed=42)(input)\n",
    "x = layers.RandomRotation(0.25, seed=42)(x)\n",
    "output = layers.RandomZoom(0.2, 0.2, seed=42)(x)\n",
    "\n",
    "dataAugmentation = keras.Model(inputs=input, outputs=output)"
   ]
  },
  {
   "cell_type": "markdown",
   "metadata": {},
   "source": [
    "Augmenting Train Set"
   ]
  },
  {
   "cell_type": "code",
   "execution_count": 10,
   "metadata": {},
   "outputs": [],
   "source": [
    "trainDS = trainDS.map(lambda x, y: (dataAugmentation(x), y))"
   ]
  },
  {
   "cell_type": "markdown",
   "metadata": {},
   "source": [
    "# Model Building #"
   ]
  },
  {
   "cell_type": "markdown",
   "metadata": {},
   "source": [
    "## Model 1 ##  \n",
    "Simple and Shallow Model\n",
    "\n",
    "<img src='Images/Model1_Arch.png' width='300' height='500' style='display:block; margin: auto'/>\n",
    "<p style='text-align: center'>\n",
    "    <b>Model 1 Architecture</b>\n",
    "</p>"
   ]
  },
  {
   "cell_type": "code",
   "execution_count": 11,
   "metadata": {},
   "outputs": [],
   "source": [
    "input = layers.Input((28, 28, 1))\n",
    "x = layers.Rescaling(1/255)(input)\n",
    "\n",
    "x = layers.Conv2D(16, 3, padding='same', activation='relu')(x)\n",
    "x = layers.Conv2D(32, 3, padding='same', activation='relu')(x)\n",
    "x = layers.BatchNormalization()(x)\n",
    "x = layers.MaxPool2D()(x)\n",
    "\n",
    "x = layers.Conv2D(64, 3, padding='same', activation='relu')(x)\n",
    "x = layers.Conv2D(128, 3, padding='same', activation='relu')(x)\n",
    "x = layers.BatchNormalization()(x)\n",
    "x = layers.MaxPool2D()(x)\n",
    "\n",
    "x = layers.Dropout(0.2)(x)\n",
    "x = layers.Flatten()(x)\n",
    "x = layers.Dense(64, activation='relu')(x)\n",
    "x = layers.BatchNormalization()(x)\n",
    "\n",
    "output = layers.Dense(fmnist_numClasses, activation='softmax')(x)\n",
    "\n",
    "model1 = keras.Model(inputs=input, outputs=output, name='Model_1')"
   ]
  },
  {
   "cell_type": "code",
   "execution_count": 12,
   "metadata": {},
   "outputs": [
    {
     "name": "stdout",
     "output_type": "stream",
     "text": [
      "Model: \"Model_1\"\n",
      "_________________________________________________________________\n",
      " Layer (type)                Output Shape              Param #   \n",
      "=================================================================\n",
      " input_2 (InputLayer)        [(None, 28, 28, 1)]       0         \n",
      "                                                                 \n",
      " rescaling (Rescaling)       (None, 28, 28, 1)         0         \n",
      "                                                                 \n",
      " conv2d (Conv2D)             (None, 28, 28, 16)        160       \n",
      "                                                                 \n",
      " conv2d_1 (Conv2D)           (None, 28, 28, 32)        4640      \n",
      "                                                                 \n",
      " batch_normalization (BatchN  (None, 28, 28, 32)       128       \n",
      " ormalization)                                                   \n",
      "                                                                 \n",
      " max_pooling2d (MaxPooling2D  (None, 14, 14, 32)       0         \n",
      " )                                                               \n",
      "                                                                 \n",
      " conv2d_2 (Conv2D)           (None, 14, 14, 64)        18496     \n",
      "                                                                 \n",
      " conv2d_3 (Conv2D)           (None, 14, 14, 128)       73856     \n",
      "                                                                 \n",
      " batch_normalization_1 (Batc  (None, 14, 14, 128)      512       \n",
      " hNormalization)                                                 \n",
      "                                                                 \n",
      " max_pooling2d_1 (MaxPooling  (None, 7, 7, 128)        0         \n",
      " 2D)                                                             \n",
      "                                                                 \n",
      " dropout (Dropout)           (None, 7, 7, 128)         0         \n",
      "                                                                 \n",
      " flatten (Flatten)           (None, 6272)              0         \n",
      "                                                                 \n",
      " dense (Dense)               (None, 64)                401472    \n",
      "                                                                 \n",
      " batch_normalization_2 (Batc  (None, 64)               256       \n",
      " hNormalization)                                                 \n",
      "                                                                 \n",
      " dense_1 (Dense)             (None, 10)                650       \n",
      "                                                                 \n",
      "=================================================================\n",
      "Total params: 500,170\n",
      "Trainable params: 499,722\n",
      "Non-trainable params: 448\n",
      "_________________________________________________________________\n"
     ]
    }
   ],
   "source": [
    "model1.summary()"
   ]
  },
  {
   "cell_type": "markdown",
   "metadata": {},
   "source": [
    "## Model 2 ##\n",
    "\n",
    "<img src='Images/Model2_Arch.png' width='300' height='500' style='display:block; margin: auto'/>\n",
    "<p style='text-align: center'>\n",
    "    <b>Model 2 Architecture</b>\n",
    "</p>"
   ]
  },
  {
   "cell_type": "code",
   "execution_count": 13,
   "metadata": {},
   "outputs": [],
   "source": [
    "input = layers.Input((28, 28, 1))\n",
    "x = layers.Rescaling(1/255)(input)\n",
    "\n",
    "x = layers.Conv2D(16, 3, padding='same', activation='relu')(x)\n",
    "x = layers.Conv2D(32, 3, padding='same', activation='relu')(x)\n",
    "x = layers.BatchNormalization()(x)\n",
    "x = layers.MaxPool2D()(x)\n",
    "\n",
    "x = layers.Dense(64, activation='relu')(x)\n",
    "x = layers.BatchNormalization()(x)\n",
    "x = layers.Dropout(0.2)(x)\n",
    "x = layers.Dense(128, activation='relu')(x)\n",
    "x = layers.BatchNormalization()(x)\n",
    "\n",
    "x = layers.Conv2D(256, 3, padding='same', activation='relu')(x)\n",
    "x = layers.Conv2D(128, 3, padding='same', activation='relu')(x)\n",
    "x = layers.BatchNormalization()(x)\n",
    "x = layers.MaxPool2D()(x)\n",
    "\n",
    "x = layers.Flatten()(x)\n",
    "x = layers.Dense(64, activation='relu')(x)\n",
    "x = layers.BatchNormalization()(x)\n",
    "output = layers.Dense(fmnist_numClasses, activation='softmax')(x)\n",
    "\n",
    "model2 = keras.Model(inputs=input, outputs=output, name='Model_2')"
   ]
  },
  {
   "cell_type": "code",
   "execution_count": 14,
   "metadata": {},
   "outputs": [
    {
     "name": "stdout",
     "output_type": "stream",
     "text": [
      "Model: \"Model_2\"\n",
      "_________________________________________________________________\n",
      " Layer (type)                Output Shape              Param #   \n",
      "=================================================================\n",
      " input_3 (InputLayer)        [(None, 28, 28, 1)]       0         \n",
      "                                                                 \n",
      " rescaling_1 (Rescaling)     (None, 28, 28, 1)         0         \n",
      "                                                                 \n",
      " conv2d_4 (Conv2D)           (None, 28, 28, 16)        160       \n",
      "                                                                 \n",
      " conv2d_5 (Conv2D)           (None, 28, 28, 32)        4640      \n",
      "                                                                 \n",
      " batch_normalization_3 (Batc  (None, 28, 28, 32)       128       \n",
      " hNormalization)                                                 \n",
      "                                                                 \n",
      " max_pooling2d_2 (MaxPooling  (None, 14, 14, 32)       0         \n",
      " 2D)                                                             \n",
      "                                                                 \n",
      " dense_2 (Dense)             (None, 14, 14, 64)        2112      \n",
      "                                                                 \n",
      " batch_normalization_4 (Batc  (None, 14, 14, 64)       256       \n",
      " hNormalization)                                                 \n",
      "                                                                 \n",
      " dropout_1 (Dropout)         (None, 14, 14, 64)        0         \n",
      "                                                                 \n",
      " dense_3 (Dense)             (None, 14, 14, 128)       8320      \n",
      "                                                                 \n",
      " batch_normalization_5 (Batc  (None, 14, 14, 128)      512       \n",
      " hNormalization)                                                 \n",
      "                                                                 \n",
      " conv2d_6 (Conv2D)           (None, 14, 14, 256)       295168    \n",
      "                                                                 \n",
      " conv2d_7 (Conv2D)           (None, 14, 14, 128)       295040    \n",
      "                                                                 \n",
      " batch_normalization_6 (Batc  (None, 14, 14, 128)      512       \n",
      " hNormalization)                                                 \n",
      "                                                                 \n",
      " max_pooling2d_3 (MaxPooling  (None, 7, 7, 128)        0         \n",
      " 2D)                                                             \n",
      "                                                                 \n",
      " flatten_1 (Flatten)         (None, 6272)              0         \n",
      "                                                                 \n",
      " dense_4 (Dense)             (None, 64)                401472    \n",
      "                                                                 \n",
      " batch_normalization_7 (Batc  (None, 64)               256       \n",
      " hNormalization)                                                 \n",
      "                                                                 \n",
      " dense_5 (Dense)             (None, 10)                650       \n",
      "                                                                 \n",
      "=================================================================\n",
      "Total params: 1,009,226\n",
      "Trainable params: 1,008,394\n",
      "Non-trainable params: 832\n",
      "_________________________________________________________________\n"
     ]
    }
   ],
   "source": [
    "model2.summary()"
   ]
  },
  {
   "cell_type": "markdown",
   "metadata": {},
   "source": [
    "## Model 3 ##"
   ]
  },
  {
   "cell_type": "markdown",
   "metadata": {},
   "source": [
    "<img src='Images/Block.png' width='300' height='500' style='display:block; margin: auto'/>\n",
    "<p style='text-align: center'>\n",
    "    <b>Block Architecture</b>\n",
    "</p>"
   ]
  },
  {
   "cell_type": "markdown",
   "metadata": {},
   "source": [
    "Note that the add between block 2 and block 3, the output of block 1 was first Max Pooled then it was then it was added with the output of model 2"
   ]
  },
  {
   "cell_type": "markdown",
   "metadata": {},
   "source": [
    "<img src='Images/Model3_Arch.png' width='300' height='500' style='display:block; margin: auto'/>\n",
    "<p style='text-align: center'>\n",
    "    <b>Model 3 Architecture</b>\n",
    "</p>"
   ]
  },
  {
   "cell_type": "code",
   "execution_count": 93,
   "metadata": {},
   "outputs": [],
   "source": [
    "input = layers.Input((28, 28, 1))\n",
    "x = layers.Rescaling(1/255)(input)\n",
    "\n",
    "x = layers.Conv2D(64, 3, padding='same', activation='relu')(x)\n",
    "block0_output = layers.BatchNormalization()(x)\n",
    "\n",
    "# Block 1\n",
    "x = layers.Conv2D(64, 3, padding='same', activation='relu')(x)\n",
    "x = layers.Conv2D(16, 3, padding='same', activation='relu')(x)\n",
    "x = layers.Conv2D(64, 3, padding='same', activation='relu')(x)\n",
    "block1_output = layers.BatchNormalization()(x)\n",
    "x = layers.Concatenate()([block1_output, block0_output])\n",
    "block1_output = layers.MaxPool2D()(x)\n",
    "\n",
    "x = layers.Dense(64, activation='relu')(block1_output)\n",
    "x = layers.BatchNormalization()(x)\n",
    "x = layers.Dropout(0.2)(x)\n",
    "x = layers.Dense(16, activation='relu')(x)\n",
    "x = layers.BatchNormalization()(x)\n",
    "x = layers.Dropout(0.2)(x)\n",
    "x = layers.Dense(64, activation='relu')(x)\n",
    "x1 = layers.BatchNormalization()(x)\n",
    "\n",
    "# Block 2\n",
    "x = layers.Conv2D(64, 3, padding='same', activation='relu')(x1)\n",
    "x = layers.Conv2D(16, 3, padding='same', activation='relu')(x)\n",
    "x = layers.Conv2D(64, 3, padding='same', activation='relu')(x)\n",
    "block2_output = layers.BatchNormalization()(x)\n",
    "x = layers.Concatenate()([block2_output, block1_output])\n",
    "block2_output = layers.MaxPool2D()(x)\n",
    "\n",
    "x = layers.Dense(64, activation='relu')(block2_output)\n",
    "x = layers.BatchNormalization()(x)\n",
    "x = layers.Dropout(0.2)(x)\n",
    "x = layers.Dense(16, activation='relu')(x)\n",
    "x = layers.BatchNormalization()(x)\n",
    "x = layers.Dropout(0.2)(x)\n",
    "x = layers.Dense(64, activation='relu')(x)\n",
    "x2 = layers.BatchNormalization()(x)\n",
    "x1 = layers.MaxPool2D()(x1)\n",
    "x = layers.Add()([x1, x2])\n",
    "\n",
    "# Block 3\n",
    "x = layers.Conv2D(64, 3, padding='same', activation='relu')(x)\n",
    "x = layers.Conv2D(16, 3, padding='same', activation='relu')(x)\n",
    "x = layers.Conv2D(64, 3, padding='same', activation='relu')(x)\n",
    "block3_output = layers.BatchNormalization()(x)\n",
    "x = layers.Concatenate()([block3_output, block2_output])\n",
    "x = layers.MaxPool2D()(x)\n",
    "\n",
    "x = layers.Dense(64, activation='relu')(block3_output)\n",
    "x = layers.BatchNormalization()(x)\n",
    "x = layers.Dropout(0.2)(x)\n",
    "x = layers.Dense(16, activation='relu')(x)\n",
    "x = layers.BatchNormalization()(x)\n",
    "x = layers.Dropout(0.2)(x)\n",
    "x = layers.Dense(64, activation='relu')(x)\n",
    "x3 = layers.BatchNormalization()(x)\n",
    "x = layers.Add()([x2, x3])\n",
    "\n",
    "# Block 4\n",
    "x = layers.Conv2D(64, 3, padding='same', activation='relu')(x)\n",
    "x = layers.Conv2D(16, 3, padding='same', activation='relu')(x)\n",
    "x = layers.Conv2D(64, 3, padding='same', activation='relu')(x)\n",
    "block4_output = layers.BatchNormalization()(x)\n",
    "x = layers.Concatenate()([block4_output, block2_output])\n",
    "x = layers.MaxPool2D()(x)\n",
    "\n",
    "x = layers.Dense(64, activation='relu')(block3_output)\n",
    "x = layers.BatchNormalization()(x)\n",
    "x = layers.Dropout(0.2)(x)\n",
    "x = layers.Dense(16, activation='relu')(block3_output)\n",
    "x = layers.BatchNormalization()(x)\n",
    "x = layers.Dropout(0.2)(x)\n",
    "x = layers.Dense(64, activation='relu')(x)\n",
    "x4 = layers.BatchNormalization()(x)\n",
    "x = layers.Add()([x3, x4])\n",
    "\n",
    "x = layers.Dropout(0.2)(x)\n",
    "x = layers.Flatten()(x)\n",
    "x = layers.Dense(512, activation='relu')(x)\n",
    "x = layers.BatchNormalization()(x)\n",
    "output = layers.Dense(fmnist_numClasses, activation='softmax')(x)\n",
    "\n",
    "model3 = keras.Model(inputs=input, outputs=output, name='Model_3')"
   ]
  },
  {
   "cell_type": "code",
   "execution_count": 94,
   "metadata": {},
   "outputs": [
    {
     "name": "stdout",
     "output_type": "stream",
     "text": [
      "Model: \"Model_3\"\n",
      "__________________________________________________________________________________________________\n",
      " Layer (type)                   Output Shape         Param #     Connected to                     \n",
      "==================================================================================================\n",
      " input_7 (InputLayer)           [(None, 28, 28, 1)]  0           []                               \n",
      "                                                                                                  \n",
      " rescaling_6 (Rescaling)        (None, 28, 28, 1)    0           ['input_7[0][0]']                \n",
      "                                                                                                  \n",
      " conv2d_57 (Conv2D)             (None, 28, 28, 64)   640         ['rescaling_6[0][0]']            \n",
      "                                                                                                  \n",
      " conv2d_58 (Conv2D)             (None, 28, 28, 64)   36928       ['conv2d_57[0][0]']              \n",
      "                                                                                                  \n",
      " conv2d_59 (Conv2D)             (None, 28, 28, 16)   9232        ['conv2d_58[0][0]']              \n",
      "                                                                                                  \n",
      " conv2d_60 (Conv2D)             (None, 28, 28, 64)   9280        ['conv2d_59[0][0]']              \n",
      "                                                                                                  \n",
      " batch_normalization_75 (BatchN  (None, 28, 28, 64)  256         ['conv2d_60[0][0]']              \n",
      " ormalization)                                                                                    \n",
      "                                                                                                  \n",
      " batch_normalization_74 (BatchN  (None, 28, 28, 64)  256         ['conv2d_57[0][0]']              \n",
      " ormalization)                                                                                    \n",
      "                                                                                                  \n",
      " concatenate_17 (Concatenate)   (None, 28, 28, 128)  0           ['batch_normalization_75[0][0]', \n",
      "                                                                  'batch_normalization_74[0][0]'] \n",
      "                                                                                                  \n",
      " max_pooling2d_25 (MaxPooling2D  (None, 14, 14, 128)  0          ['concatenate_17[0][0]']         \n",
      " )                                                                                                \n",
      "                                                                                                  \n",
      " dense_51 (Dense)               (None, 14, 14, 64)   8256        ['max_pooling2d_25[0][0]']       \n",
      "                                                                                                  \n",
      " batch_normalization_76 (BatchN  (None, 14, 14, 64)  256         ['dense_51[0][0]']               \n",
      " ormalization)                                                                                    \n",
      "                                                                                                  \n",
      " dropout_34 (Dropout)           (None, 14, 14, 64)   0           ['batch_normalization_76[0][0]'] \n",
      "                                                                                                  \n",
      " dense_52 (Dense)               (None, 14, 14, 16)   1040        ['dropout_34[0][0]']             \n",
      "                                                                                                  \n",
      " batch_normalization_77 (BatchN  (None, 14, 14, 16)  64          ['dense_52[0][0]']               \n",
      " ormalization)                                                                                    \n",
      "                                                                                                  \n",
      " dropout_35 (Dropout)           (None, 14, 14, 16)   0           ['batch_normalization_77[0][0]'] \n",
      "                                                                                                  \n",
      " dense_53 (Dense)               (None, 14, 14, 64)   1088        ['dropout_35[0][0]']             \n",
      "                                                                                                  \n",
      " batch_normalization_78 (BatchN  (None, 14, 14, 64)  256         ['dense_53[0][0]']               \n",
      " ormalization)                                                                                    \n",
      "                                                                                                  \n",
      " conv2d_61 (Conv2D)             (None, 14, 14, 64)   36928       ['batch_normalization_78[0][0]'] \n",
      "                                                                                                  \n",
      " conv2d_62 (Conv2D)             (None, 14, 14, 16)   9232        ['conv2d_61[0][0]']              \n",
      "                                                                                                  \n",
      " conv2d_63 (Conv2D)             (None, 14, 14, 64)   9280        ['conv2d_62[0][0]']              \n",
      "                                                                                                  \n",
      " batch_normalization_79 (BatchN  (None, 14, 14, 64)  256         ['conv2d_63[0][0]']              \n",
      " ormalization)                                                                                    \n",
      "                                                                                                  \n",
      " concatenate_18 (Concatenate)   (None, 14, 14, 192)  0           ['batch_normalization_79[0][0]', \n",
      "                                                                  'max_pooling2d_25[0][0]']       \n",
      "                                                                                                  \n",
      " max_pooling2d_26 (MaxPooling2D  (None, 7, 7, 192)   0           ['concatenate_18[0][0]']         \n",
      " )                                                                                                \n",
      "                                                                                                  \n",
      " dense_54 (Dense)               (None, 7, 7, 64)     12352       ['max_pooling2d_26[0][0]']       \n",
      "                                                                                                  \n",
      " batch_normalization_80 (BatchN  (None, 7, 7, 64)    256         ['dense_54[0][0]']               \n",
      " ormalization)                                                                                    \n",
      "                                                                                                  \n",
      " dropout_36 (Dropout)           (None, 7, 7, 64)     0           ['batch_normalization_80[0][0]'] \n",
      "                                                                                                  \n",
      " dense_55 (Dense)               (None, 7, 7, 16)     1040        ['dropout_36[0][0]']             \n",
      "                                                                                                  \n",
      " batch_normalization_81 (BatchN  (None, 7, 7, 16)    64          ['dense_55[0][0]']               \n",
      " ormalization)                                                                                    \n",
      "                                                                                                  \n",
      " dropout_37 (Dropout)           (None, 7, 7, 16)     0           ['batch_normalization_81[0][0]'] \n",
      "                                                                                                  \n",
      " dense_56 (Dense)               (None, 7, 7, 64)     1088        ['dropout_37[0][0]']             \n",
      "                                                                                                  \n",
      " max_pooling2d_27 (MaxPooling2D  (None, 7, 7, 64)    0           ['batch_normalization_78[0][0]'] \n",
      " )                                                                                                \n",
      "                                                                                                  \n",
      " batch_normalization_82 (BatchN  (None, 7, 7, 64)    256         ['dense_56[0][0]']               \n",
      " ormalization)                                                                                    \n",
      "                                                                                                  \n",
      " add_12 (Add)                   (None, 7, 7, 64)     0           ['max_pooling2d_27[0][0]',       \n",
      "                                                                  'batch_normalization_82[0][0]'] \n",
      "                                                                                                  \n",
      " conv2d_64 (Conv2D)             (None, 7, 7, 64)     36928       ['add_12[0][0]']                 \n",
      "                                                                                                  \n",
      " conv2d_65 (Conv2D)             (None, 7, 7, 16)     9232        ['conv2d_64[0][0]']              \n",
      "                                                                                                  \n",
      " conv2d_66 (Conv2D)             (None, 7, 7, 64)     9280        ['conv2d_65[0][0]']              \n",
      "                                                                                                  \n",
      " batch_normalization_83 (BatchN  (None, 7, 7, 64)    256         ['conv2d_66[0][0]']              \n",
      " ormalization)                                                                                    \n",
      "                                                                                                  \n",
      " dense_57 (Dense)               (None, 7, 7, 64)     4160        ['batch_normalization_83[0][0]'] \n",
      "                                                                                                  \n",
      " batch_normalization_84 (BatchN  (None, 7, 7, 64)    256         ['dense_57[0][0]']               \n",
      " ormalization)                                                                                    \n",
      "                                                                                                  \n",
      " dropout_38 (Dropout)           (None, 7, 7, 64)     0           ['batch_normalization_84[0][0]'] \n",
      "                                                                                                  \n",
      " dense_58 (Dense)               (None, 7, 7, 16)     1040        ['dropout_38[0][0]']             \n",
      "                                                                                                  \n",
      " dense_61 (Dense)               (None, 7, 7, 16)     1040        ['batch_normalization_83[0][0]'] \n",
      "                                                                                                  \n",
      " batch_normalization_85 (BatchN  (None, 7, 7, 16)    64          ['dense_58[0][0]']               \n",
      " ormalization)                                                                                    \n",
      "                                                                                                  \n",
      " batch_normalization_89 (BatchN  (None, 7, 7, 16)    64          ['dense_61[0][0]']               \n",
      " ormalization)                                                                                    \n",
      "                                                                                                  \n",
      " dropout_39 (Dropout)           (None, 7, 7, 16)     0           ['batch_normalization_85[0][0]'] \n",
      "                                                                                                  \n",
      " dropout_41 (Dropout)           (None, 7, 7, 16)     0           ['batch_normalization_89[0][0]'] \n",
      "                                                                                                  \n",
      " dense_59 (Dense)               (None, 7, 7, 64)     1088        ['dropout_39[0][0]']             \n",
      "                                                                                                  \n",
      " dense_62 (Dense)               (None, 7, 7, 64)     1088        ['dropout_41[0][0]']             \n",
      "                                                                                                  \n",
      " batch_normalization_86 (BatchN  (None, 7, 7, 64)    256         ['dense_59[0][0]']               \n",
      " ormalization)                                                                                    \n",
      "                                                                                                  \n",
      " batch_normalization_90 (BatchN  (None, 7, 7, 64)    256         ['dense_62[0][0]']               \n",
      " ormalization)                                                                                    \n",
      "                                                                                                  \n",
      " add_14 (Add)                   (None, 7, 7, 64)     0           ['batch_normalization_86[0][0]', \n",
      "                                                                  'batch_normalization_90[0][0]'] \n",
      "                                                                                                  \n",
      " dropout_42 (Dropout)           (None, 7, 7, 64)     0           ['add_14[0][0]']                 \n",
      "                                                                                                  \n",
      " flatten (Flatten)              (None, 3136)         0           ['dropout_42[0][0]']             \n",
      "                                                                                                  \n",
      " dense_63 (Dense)               (None, 512)          1606144     ['flatten[0][0]']                \n",
      "                                                                                                  \n",
      " batch_normalization_91 (BatchN  (None, 512)         2048        ['dense_63[0][0]']               \n",
      " ormalization)                                                                                    \n",
      "                                                                                                  \n",
      " dense_64 (Dense)               (None, 10)           5130        ['batch_normalization_91[0][0]'] \n",
      "                                                                                                  \n",
      "==================================================================================================\n",
      "Total params: 1,816,634\n",
      "Trainable params: 1,814,074\n",
      "Non-trainable params: 2,560\n",
      "__________________________________________________________________________________________________\n"
     ]
    }
   ],
   "source": [
    "model3.summary()"
   ]
  },
  {
   "cell_type": "markdown",
   "metadata": {},
   "source": [
    "## Model 4 ##\n",
    "\n",
    "<img src='Images/Model4_Arch.png' width='300' height='500' style='display:block; margin: auto'/>\n",
    "<p style='text-align: center'>\n",
    "    <b>Model 4 Architecture</b>\n",
    "</p>"
   ]
  },
  {
   "cell_type": "code",
   "execution_count": 24,
   "metadata": {},
   "outputs": [],
   "source": [
    "input = layers.Input((28, 28, 1))\n",
    "x = layers.Rescaling(1/255)(input)\n",
    "\n",
    "x = layers.Conv2D(64, 3, padding='same', activation='relu')(x)\n",
    "x = layers.Conv2D(32, 1, padding='same', activation='relu')(x)\n",
    "x = layers.Conv2D(64, 3, padding='same', activation='relu')(x)\n",
    "x = layers.BatchNormalization()(x)\n",
    "\n",
    "x = layers.Conv2D(128, 3, padding='same', activation='relu')(x)\n",
    "x = layers.Conv2D(64, 1, padding='same', activation='relu')(x)\n",
    "x = layers.Conv2D(128, 3, padding='same', activation='relu')(x)\n",
    "x = layers.BatchNormalization()(x)\n",
    "x = layers.MaxPool2D()(x)\n",
    "\n",
    "x = layers.Dense(32, activation='relu')(x)\n",
    "x = layers.BatchNormalization()(x)\n",
    "\n",
    "x = layers.Conv2D(128, 3, padding='same', activation='relu')(x)\n",
    "x = layers.Conv2D(64, 1, padding='same', activation='relu')(x)\n",
    "x = layers.Conv2D(128, 3, padding='same', activation='relu')(x)\n",
    "x = layers.BatchNormalization()(x)\n",
    "\n",
    "x = layers.Conv2D(64, 3, padding='same', activation='relu')(x)\n",
    "x = layers.Conv2D(32, 1, padding='same', activation='relu')(x)\n",
    "x = layers.Conv2D(64, 3, padding='same', activation='relu')(x)\n",
    "x = layers.BatchNormalization()(x)\n",
    "\n",
    "x = layers.Dropout(0.2)(x)\n",
    "x = layers.Flatten()(x)\n",
    "x = layers.Dense(256, activation='relu')(x)\n",
    "x = layers.BatchNormalization()(x)\n",
    "\n",
    "output = layers.Dense(fmnist_numClasses, activation='softmax')(x)\n",
    "\n",
    "model4 = keras.Model(inputs=input, outputs=output, name='Model_4')"
   ]
  },
  {
   "cell_type": "code",
   "execution_count": 25,
   "metadata": {},
   "outputs": [
    {
     "name": "stdout",
     "output_type": "stream",
     "text": [
      "Model: \"Model_4\"\n",
      "_________________________________________________________________\n",
      " Layer (type)                Output Shape              Param #   \n",
      "=================================================================\n",
      " input_9 (InputLayer)        [(None, 28, 28, 1)]       0         \n",
      "                                                                 \n",
      " rescaling_7 (Rescaling)     (None, 28, 28, 1)         0         \n",
      "                                                                 \n",
      " conv2d_72 (Conv2D)          (None, 28, 28, 64)        640       \n",
      "                                                                 \n",
      " conv2d_73 (Conv2D)          (None, 28, 28, 32)        2080      \n",
      "                                                                 \n",
      " conv2d_74 (Conv2D)          (None, 28, 28, 64)        18496     \n",
      "                                                                 \n",
      " batch_normalization_52 (Bat  (None, 28, 28, 64)       256       \n",
      " chNormalization)                                                \n",
      "                                                                 \n",
      " conv2d_75 (Conv2D)          (None, 28, 28, 128)       73856     \n",
      "                                                                 \n",
      " conv2d_76 (Conv2D)          (None, 28, 28, 64)        8256      \n",
      "                                                                 \n",
      " conv2d_77 (Conv2D)          (None, 28, 28, 128)       73856     \n",
      "                                                                 \n",
      " batch_normalization_53 (Bat  (None, 28, 28, 128)      512       \n",
      " chNormalization)                                                \n",
      "                                                                 \n",
      " max_pooling2d_8 (MaxPooling  (None, 14, 14, 128)      0         \n",
      " 2D)                                                             \n",
      "                                                                 \n",
      " dense_34 (Dense)            (None, 14, 14, 32)        4128      \n",
      "                                                                 \n",
      " batch_normalization_54 (Bat  (None, 14, 14, 32)       128       \n",
      " chNormalization)                                                \n",
      "                                                                 \n",
      " conv2d_78 (Conv2D)          (None, 14, 14, 128)       36992     \n",
      "                                                                 \n",
      " conv2d_79 (Conv2D)          (None, 14, 14, 64)        8256      \n",
      "                                                                 \n",
      " conv2d_80 (Conv2D)          (None, 14, 14, 128)       73856     \n",
      "                                                                 \n",
      " batch_normalization_55 (Bat  (None, 14, 14, 128)      512       \n",
      " chNormalization)                                                \n",
      "                                                                 \n",
      " conv2d_81 (Conv2D)          (None, 14, 14, 64)        73792     \n",
      "                                                                 \n",
      " conv2d_82 (Conv2D)          (None, 14, 14, 32)        2080      \n",
      "                                                                 \n",
      " conv2d_83 (Conv2D)          (None, 14, 14, 64)        18496     \n",
      "                                                                 \n",
      " batch_normalization_56 (Bat  (None, 14, 14, 64)       256       \n",
      " chNormalization)                                                \n",
      "                                                                 \n",
      " dropout_16 (Dropout)        (None, 14, 14, 64)        0         \n",
      "                                                                 \n",
      " flatten_6 (Flatten)         (None, 12544)             0         \n",
      "                                                                 \n",
      " dense_35 (Dense)            (None, 256)               3211520   \n",
      "                                                                 \n",
      " batch_normalization_57 (Bat  (None, 256)              1024      \n",
      " chNormalization)                                                \n",
      "                                                                 \n",
      " dense_36 (Dense)            (None, 10)                2570      \n",
      "                                                                 \n",
      "=================================================================\n",
      "Total params: 3,611,562\n",
      "Trainable params: 3,610,218\n",
      "Non-trainable params: 1,344\n",
      "_________________________________________________________________\n"
     ]
    }
   ],
   "source": [
    "model4.summary()"
   ]
  },
  {
   "cell_type": "markdown",
   "metadata": {},
   "source": [
    "# Model Testing #"
   ]
  },
  {
   "cell_type": "markdown",
   "metadata": {},
   "source": [
    "## Function for plotting accuracy and loss ##"
   ]
  },
  {
   "cell_type": "code",
   "execution_count": 11,
   "metadata": {},
   "outputs": [],
   "source": [
    "def plotFallOffGraph(history, accuracy='accuracy', val_accuracy='val_accuracy', loss='loss', val_loss='val_loss'):\n",
    "    acc = history.history[accuracy]\n",
    "    val_acc = history.history[val_accuracy]\n",
    "\n",
    "    loss = history.history[loss]\n",
    "    val_loss = history.history[val_loss]\n",
    "\n",
    "    epochs_range = range(len(history.epoch))\n",
    "\n",
    "    plt.figure(figsize=(8, 8))\n",
    "    plt.subplot(1, 2, 1)\n",
    "    plt.plot(epochs_range, acc, label='Training Accuracy')\n",
    "    plt.plot(epochs_range, val_acc, label='Validation Accuracy')\n",
    "    plt.legend(loc='lower right')\n",
    "    plt.title('Training and Validation Accuracy')\n",
    "\n",
    "    plt.subplot(1, 2, 2)\n",
    "    plt.plot(epochs_range, loss, label='Training Loss')\n",
    "    plt.plot(epochs_range, val_loss, label='Validation Loss')\n",
    "    plt.legend(loc='upper right')\n",
    "    plt.title('Training and Validation Loss')\n",
    "    plt.show()"
   ]
  },
  {
   "cell_type": "markdown",
   "metadata": {},
   "source": [
    "## Model 1 ##"
   ]
  },
  {
   "cell_type": "code",
   "execution_count": 20,
   "metadata": {},
   "outputs": [],
   "source": [
    "model1.compile(optimizer='adam', loss=tf.keras.losses.SparseCategoricalCrossentropy(), metrics=['accuracy'])"
   ]
  },
  {
   "cell_type": "code",
   "execution_count": 21,
   "metadata": {},
   "outputs": [
    {
     "name": "stdout",
     "output_type": "stream",
     "text": [
      "Epoch 1/15\n",
      "782/782 [==============================] - 43s 52ms/step - loss: 0.8309 - accuracy: 0.7039 - val_loss: 0.7384 - val_accuracy: 0.7226\n",
      "Epoch 2/15\n",
      "782/782 [==============================] - 39s 50ms/step - loss: 0.5849 - accuracy: 0.7904 - val_loss: 0.9524 - val_accuracy: 0.6523\n",
      "Epoch 3/15\n",
      "782/782 [==============================] - 40s 51ms/step - loss: 0.5117 - accuracy: 0.8152 - val_loss: 0.5279 - val_accuracy: 0.7976\n",
      "Epoch 4/15\n",
      "782/782 [==============================] - 39s 50ms/step - loss: 0.4703 - accuracy: 0.8315 - val_loss: 0.5415 - val_accuracy: 0.8054\n",
      "Epoch 5/15\n",
      "782/782 [==============================] - 40s 51ms/step - loss: 0.4355 - accuracy: 0.8423 - val_loss: 0.5258 - val_accuracy: 0.8025\n",
      "Epoch 6/15\n",
      "782/782 [==============================] - 40s 51ms/step - loss: 0.4177 - accuracy: 0.8493 - val_loss: 0.4062 - val_accuracy: 0.8466\n",
      "Epoch 7/15\n",
      "782/782 [==============================] - 39s 50ms/step - loss: 0.3990 - accuracy: 0.8544 - val_loss: 0.4293 - val_accuracy: 0.8395\n",
      "Epoch 8/15\n",
      "782/782 [==============================] - 40s 51ms/step - loss: 0.3928 - accuracy: 0.8579 - val_loss: 0.4041 - val_accuracy: 0.8465\n",
      "Epoch 9/15\n",
      "782/782 [==============================] - 39s 50ms/step - loss: 0.3808 - accuracy: 0.8620 - val_loss: 0.4802 - val_accuracy: 0.8240\n",
      "Epoch 10/15\n",
      "782/782 [==============================] - 40s 51ms/step - loss: 0.3661 - accuracy: 0.8671 - val_loss: 0.4115 - val_accuracy: 0.8488\n",
      "Epoch 11/15\n",
      "782/782 [==============================] - 40s 51ms/step - loss: 0.3647 - accuracy: 0.8679 - val_loss: 0.3838 - val_accuracy: 0.8587\n",
      "Epoch 12/15\n",
      "782/782 [==============================] - 39s 50ms/step - loss: 0.3574 - accuracy: 0.8706 - val_loss: 0.3700 - val_accuracy: 0.8657\n",
      "Epoch 13/15\n",
      "782/782 [==============================] - 39s 49ms/step - loss: 0.3494 - accuracy: 0.8739 - val_loss: 0.3857 - val_accuracy: 0.8599\n",
      "Epoch 14/15\n",
      "782/782 [==============================] - 40s 51ms/step - loss: 0.3435 - accuracy: 0.8749 - val_loss: 0.3680 - val_accuracy: 0.8671\n",
      "Epoch 15/15\n",
      "782/782 [==============================] - 40s 51ms/step - loss: 0.3356 - accuracy: 0.8795 - val_loss: 0.3785 - val_accuracy: 0.8628\n"
     ]
    }
   ],
   "source": [
    "history1 = model1.fit(trainDS, epochs=15, validation_data=valDS)"
   ]
  },
  {
   "cell_type": "code",
   "execution_count": 22,
   "metadata": {},
   "outputs": [
    {
     "data": {
      "image/png": "[encoded data removed]",
      "text/plain": [
       "<Figure size 576x576 with 2 Axes>"
      ]
     },
     "metadata": {
      "needs_background": "light"
     },
     "output_type": "display_data"
    }
   ],
   "source": [
    "plotFallOffGraph(history1)"
   ]
  },
  {
   "cell_type": "code",
   "execution_count": 23,
   "metadata": {},
   "outputs": [
    {
     "name": "stdout",
     "output_type": "stream",
     "text": [
      "The highest validation obtained: 0.8671000003814697\n",
      "The lowest loss obtained: 0.36800962686538696\n"
     ]
    }
   ],
   "source": [
    "print(f'The highest validation accuracy obtained: {max(history1.history[\"val_accuracy\"])}')\n",
    "print(f'The lowest loss obtained: {min(history1.history[\"val_loss\"])}')"
   ]
  },
  {
   "cell_type": "markdown",
   "metadata": {},
   "source": [
    "Saving Model 1"
   ]
  },
  {
   "cell_type": "code",
   "execution_count": 24,
   "metadata": {},
   "outputs": [
    {
     "name": "stderr",
     "output_type": "stream",
     "text": [
      "WARNING:absl:Found untraced functions such as _jit_compiled_convolution_op, _jit_compiled_convolution_op, _jit_compiled_convolution_op, _jit_compiled_convolution_op while saving (showing 4 of 4). These functions will not be directly callable after loading.\n"
     ]
    },
    {
     "name": "stdout",
     "output_type": "stream",
     "text": [
      "INFO:tensorflow:Assets written to: ./Models/Model1/assets\n"
     ]
    },
    {
     "name": "stderr",
     "output_type": "stream",
     "text": [
      "INFO:tensorflow:Assets written to: ./Models/Model1/assets\n"
     ]
    }
   ],
   "source": [
    "model1.save('./Models/Model1/')"
   ]
  },
  {
   "cell_type": "code",
   "execution_count": 25,
   "metadata": {},
   "outputs": [],
   "source": [
    "tf.keras.backend.clear_session()"
   ]
  },
  {
   "cell_type": "markdown",
   "metadata": {},
   "source": [
    "## Model 2 ##"
   ]
  },
  {
   "cell_type": "code",
   "execution_count": 26,
   "metadata": {},
   "outputs": [],
   "source": [
    "model2.compile(optimizer='adam', loss=tf.keras.losses.SparseCategoricalCrossentropy(), metrics=['accuracy'])"
   ]
  },
  {
   "cell_type": "code",
   "execution_count": 27,
   "metadata": {},
   "outputs": [
    {
     "name": "stdout",
     "output_type": "stream",
     "text": [
      "Epoch 1/15\n",
      "782/782 [==============================] - 56s 70ms/step - loss: 0.7955 - accuracy: 0.7225 - val_loss: 3.0225 - val_accuracy: 0.3937\n",
      "Epoch 2/15\n",
      "782/782 [==============================] - 53s 68ms/step - loss: 0.5627 - accuracy: 0.7986 - val_loss: 0.7839 - val_accuracy: 0.7205\n",
      "Epoch 3/15\n",
      "782/782 [==============================] - 54s 70ms/step - loss: 0.4967 - accuracy: 0.8199 - val_loss: 0.7551 - val_accuracy: 0.7269\n",
      "Epoch 4/15\n",
      "782/782 [==============================] - 56s 71ms/step - loss: 0.4556 - accuracy: 0.8362 - val_loss: 0.5185 - val_accuracy: 0.8036\n",
      "Epoch 5/15\n",
      "782/782 [==============================] - 55s 71ms/step - loss: 0.4302 - accuracy: 0.8457 - val_loss: 0.4988 - val_accuracy: 0.8181\n",
      "Epoch 6/15\n",
      "782/782 [==============================] - 56s 71ms/step - loss: 0.4023 - accuracy: 0.8559 - val_loss: 0.4291 - val_accuracy: 0.8381\n",
      "Epoch 7/15\n",
      "782/782 [==============================] - 55s 71ms/step - loss: 0.3935 - accuracy: 0.8590 - val_loss: 0.5154 - val_accuracy: 0.8118\n",
      "Epoch 8/15\n",
      "782/782 [==============================] - 56s 72ms/step - loss: 0.3735 - accuracy: 0.8655 - val_loss: 0.3862 - val_accuracy: 0.8562\n",
      "Epoch 9/15\n",
      "782/782 [==============================] - 56s 72ms/step - loss: 0.3618 - accuracy: 0.8694 - val_loss: 0.3567 - val_accuracy: 0.8679\n",
      "Epoch 10/15\n",
      "782/782 [==============================] - 57s 73ms/step - loss: 0.3537 - accuracy: 0.8719 - val_loss: 0.4526 - val_accuracy: 0.8366\n",
      "Epoch 11/15\n",
      "782/782 [==============================] - 55s 70ms/step - loss: 0.3398 - accuracy: 0.8772 - val_loss: 0.4811 - val_accuracy: 0.8274\n",
      "Epoch 12/15\n",
      "782/782 [==============================] - 56s 71ms/step - loss: 0.3359 - accuracy: 0.8771 - val_loss: 0.4205 - val_accuracy: 0.8456\n",
      "Epoch 13/15\n",
      "782/782 [==============================] - 56s 71ms/step - loss: 0.3302 - accuracy: 0.8813 - val_loss: 0.4191 - val_accuracy: 0.8445\n",
      "Epoch 14/15\n",
      "782/782 [==============================] - 55s 71ms/step - loss: 0.3244 - accuracy: 0.8828 - val_loss: 0.3176 - val_accuracy: 0.8861\n",
      "Epoch 15/15\n",
      "782/782 [==============================] - 55s 70ms/step - loss: 0.3163 - accuracy: 0.8869 - val_loss: 0.3733 - val_accuracy: 0.8666\n"
     ]
    }
   ],
   "source": [
    "history2 = model2.fit(trainDS, epochs=15, validation_data=valDS)"
   ]
  },
  {
   "cell_type": "code",
   "execution_count": 28,
   "metadata": {},
   "outputs": [
    {
     "data": {
      "image/png": "[encoded data removed]",
      "text/plain": [
       "<Figure size 576x576 with 2 Axes>"
      ]
     },
     "metadata": {
      "needs_background": "light"
     },
     "output_type": "display_data"
    }
   ],
   "source": [
    "plotFallOffGraph(history2)"
   ]
  },
  {
   "cell_type": "code",
   "execution_count": 29,
   "metadata": {},
   "outputs": [
    {
     "name": "stdout",
     "output_type": "stream",
     "text": [
      "The highest validation obtained: 0.8860999941825867\n",
      "The lowest loss obtained: 0.3175593912601471\n"
     ]
    }
   ],
   "source": [
    "print(f'The highest validation accuracy obtained: {max(history2.history[\"val_accuracy\"])}')\n",
    "print(f'The lowest loss obtained: {min(history2.history[\"val_loss\"])}')"
   ]
  },
  {
   "cell_type": "markdown",
   "metadata": {},
   "source": [
    "Saving Model 2"
   ]
  },
  {
   "cell_type": "code",
   "execution_count": 30,
   "metadata": {},
   "outputs": [
    {
     "name": "stderr",
     "output_type": "stream",
     "text": [
      "WARNING:absl:Found untraced functions such as _jit_compiled_convolution_op, _jit_compiled_convolution_op, _jit_compiled_convolution_op, _jit_compiled_convolution_op while saving (showing 4 of 4). These functions will not be directly callable after loading.\n"
     ]
    },
    {
     "name": "stdout",
     "output_type": "stream",
     "text": [
      "INFO:tensorflow:Assets written to: ./Models/Model2/assets\n"
     ]
    },
    {
     "name": "stderr",
     "output_type": "stream",
     "text": [
      "INFO:tensorflow:Assets written to: ./Models/Model2/assets\n"
     ]
    }
   ],
   "source": [
    "model2.save('./Models/Model2/')"
   ]
  },
  {
   "cell_type": "code",
   "execution_count": 97,
   "metadata": {},
   "outputs": [],
   "source": [
    "tf.keras.backend.clear_session()"
   ]
  },
  {
   "cell_type": "markdown",
   "metadata": {},
   "source": [
    "## Model 3 ##"
   ]
  },
  {
   "cell_type": "code",
   "execution_count": 98,
   "metadata": {},
   "outputs": [],
   "source": [
    "model3.compile(optimizer='adam', loss=tf.keras.losses.SparseCategoricalCrossentropy(), metrics=['accuracy'])"
   ]
  },
  {
   "cell_type": "code",
   "execution_count": 99,
   "metadata": {},
   "outputs": [
    {
     "name": "stdout",
     "output_type": "stream",
     "text": [
      "Epoch 1/15\n",
      "782/782 [==============================] - 72s 88ms/step - loss: 0.9051 - accuracy: 0.6661 - val_loss: 0.6639 - val_accuracy: 0.7538\n",
      "Epoch 2/15\n",
      "782/782 [==============================] - 70s 89ms/step - loss: 0.6882 - accuracy: 0.7455 - val_loss: 0.7086 - val_accuracy: 0.7364\n",
      "Epoch 3/15\n",
      "782/782 [==============================] - 70s 89ms/step - loss: 0.6124 - accuracy: 0.7735 - val_loss: 0.7785 - val_accuracy: 0.7069\n",
      "Epoch 4/15\n",
      "782/782 [==============================] - 70s 89ms/step - loss: 0.5691 - accuracy: 0.7921 - val_loss: 0.8014 - val_accuracy: 0.6929\n",
      "Epoch 5/15\n",
      "782/782 [==============================] - 70s 90ms/step - loss: 0.5381 - accuracy: 0.8022 - val_loss: 0.5201 - val_accuracy: 0.8028\n",
      "Epoch 6/15\n",
      "782/782 [==============================] - 70s 89ms/step - loss: 0.5196 - accuracy: 0.8088 - val_loss: 0.6167 - val_accuracy: 0.7769\n",
      "Epoch 7/15\n",
      "782/782 [==============================] - 70s 89ms/step - loss: 0.4914 - accuracy: 0.8217 - val_loss: 0.6019 - val_accuracy: 0.7764\n",
      "Epoch 8/15\n",
      "782/782 [==============================] - 70s 89ms/step - loss: 0.4818 - accuracy: 0.8225 - val_loss: 0.5513 - val_accuracy: 0.7957\n",
      "Epoch 9/15\n",
      "782/782 [==============================] - 70s 89ms/step - loss: 0.4601 - accuracy: 0.8318 - val_loss: 0.4547 - val_accuracy: 0.8304\n",
      "Epoch 10/15\n",
      "782/782 [==============================] - 70s 89ms/step - loss: 0.4510 - accuracy: 0.8343 - val_loss: 0.4611 - val_accuracy: 0.8275\n",
      "Epoch 11/15\n",
      "782/782 [==============================] - 70s 89ms/step - loss: 0.4422 - accuracy: 0.8388 - val_loss: 0.4790 - val_accuracy: 0.8237\n",
      "Epoch 12/15\n",
      "782/782 [==============================] - 70s 89ms/step - loss: 0.4248 - accuracy: 0.8428 - val_loss: 0.4645 - val_accuracy: 0.8261\n",
      "Epoch 13/15\n",
      "782/782 [==============================] - 70s 89ms/step - loss: 0.4194 - accuracy: 0.8454 - val_loss: 0.3786 - val_accuracy: 0.8626\n",
      "Epoch 14/15\n",
      "782/782 [==============================] - 69s 89ms/step - loss: 0.4141 - accuracy: 0.8489 - val_loss: 0.5275 - val_accuracy: 0.8047\n",
      "Epoch 15/15\n",
      "782/782 [==============================] - 69s 89ms/step - loss: 0.4102 - accuracy: 0.8495 - val_loss: 0.4934 - val_accuracy: 0.8158\n"
     ]
    }
   ],
   "source": [
    "history3 = model3.fit(trainDS, epochs=15, validation_data=valDS)"
   ]
  },
  {
   "cell_type": "code",
   "execution_count": 100,
   "metadata": {},
   "outputs": [
    {
     "data": {
      "image/png": "[encoded data removed]",
      "text/plain": [
       "<Figure size 576x576 with 2 Axes>"
      ]
     },
     "metadata": {
      "needs_background": "light"
     },
     "output_type": "display_data"
    }
   ],
   "source": [
    "plotFallOffGraph(history3)"
   ]
  },
  {
   "cell_type": "code",
   "execution_count": 101,
   "metadata": {},
   "outputs": [
    {
     "name": "stdout",
     "output_type": "stream",
     "text": [
      "The highest validation obtained: 0.8626000285148621\n",
      "The lowest loss obtained: 0.3785991668701172\n"
     ]
    }
   ],
   "source": [
    "print(f'The highest validation accuracy obtained: {max(history3.history[\"val_accuracy\"])}')\n",
    "print(f'The lowest loss obtained: {min(history3.history[\"val_loss\"])}')"
   ]
  },
  {
   "cell_type": "markdown",
   "metadata": {},
   "source": [
    "Saving Model 3"
   ]
  },
  {
   "cell_type": "code",
   "execution_count": 102,
   "metadata": {},
   "outputs": [
    {
     "name": "stderr",
     "output_type": "stream",
     "text": [
      "WARNING:absl:Found untraced functions such as _jit_compiled_convolution_op, _jit_compiled_convolution_op, _jit_compiled_convolution_op, _jit_compiled_convolution_op, _jit_compiled_convolution_op while saving (showing 5 of 10). These functions will not be directly callable after loading.\n"
     ]
    },
    {
     "name": "stdout",
     "output_type": "stream",
     "text": [
      "INFO:tensorflow:Assets written to: ./Models/Model3/assets\n"
     ]
    },
    {
     "name": "stderr",
     "output_type": "stream",
     "text": [
      "INFO:tensorflow:Assets written to: ./Models/Model3/assets\n"
     ]
    }
   ],
   "source": [
    "model3.save('./Models/Model3/')"
   ]
  },
  {
   "cell_type": "code",
   "execution_count": 103,
   "metadata": {},
   "outputs": [],
   "source": [
    "tf.keras.backend.clear_session()"
   ]
  },
  {
   "cell_type": "markdown",
   "metadata": {},
   "source": [
    "## Model 4 ##"
   ]
  },
  {
   "cell_type": "code",
   "execution_count": 33,
   "metadata": {},
   "outputs": [],
   "source": [
    "model4.compile(optimizer='adam', loss=tf.keras.losses.SparseCategoricalCrossentropy(), metrics=['accuracy'])"
   ]
  },
  {
   "cell_type": "code",
   "execution_count": 34,
   "metadata": {},
   "outputs": [
    {
     "name": "stdout",
     "output_type": "stream",
     "text": [
      "Epoch 1/15\n",
      "782/782 [==============================] - 80s 100ms/step - loss: 0.8655 - accuracy: 0.6895 - val_loss: 0.7637 - val_accuracy: 0.7244\n",
      "Epoch 2/15\n",
      "782/782 [==============================] - 78s 100ms/step - loss: 0.6030 - accuracy: 0.7807 - val_loss: 1.6984 - val_accuracy: 0.4838\n",
      "Epoch 3/15\n",
      "782/782 [==============================] - 78s 100ms/step - loss: 0.5157 - accuracy: 0.8109 - val_loss: 0.8643 - val_accuracy: 0.7295\n",
      "Epoch 4/15\n",
      "782/782 [==============================] - 80s 102ms/step - loss: 0.4748 - accuracy: 0.8290 - val_loss: 0.4997 - val_accuracy: 0.8108\n",
      "Epoch 5/15\n",
      "782/782 [==============================] - 74s 95ms/step - loss: 0.4618 - accuracy: 0.8329 - val_loss: 0.4708 - val_accuracy: 0.8383\n",
      "Epoch 6/15\n",
      "782/782 [==============================] - 82s 105ms/step - loss: 0.4197 - accuracy: 0.8484 - val_loss: 0.5549 - val_accuracy: 0.7952\n",
      "Epoch 7/15\n",
      "782/782 [==============================] - 80s 102ms/step - loss: 0.3992 - accuracy: 0.8552 - val_loss: 0.3995 - val_accuracy: 0.8520\n",
      "Epoch 8/15\n",
      "782/782 [==============================] - 78s 100ms/step - loss: 0.3818 - accuracy: 0.8609 - val_loss: 0.3733 - val_accuracy: 0.8591\n",
      "Epoch 9/15\n",
      "782/782 [==============================] - 85s 109ms/step - loss: 0.3687 - accuracy: 0.8659 - val_loss: 0.4757 - val_accuracy: 0.8271\n",
      "Epoch 10/15\n",
      "782/782 [==============================] - 79s 101ms/step - loss: 0.3559 - accuracy: 0.8689 - val_loss: 0.3828 - val_accuracy: 0.8557\n",
      "Epoch 11/15\n",
      "782/782 [==============================] - 79s 101ms/step - loss: 0.3459 - accuracy: 0.8740 - val_loss: 0.3664 - val_accuracy: 0.8674\n",
      "Epoch 12/15\n",
      "782/782 [==============================] - 80s 103ms/step - loss: 0.3362 - accuracy: 0.8798 - val_loss: 0.4237 - val_accuracy: 0.8485\n",
      "Epoch 13/15\n",
      "782/782 [==============================] - 113s 144ms/step - loss: 0.3296 - accuracy: 0.8801 - val_loss: 0.3307 - val_accuracy: 0.8767\n",
      "Epoch 14/15\n",
      "782/782 [==============================] - 89s 113ms/step - loss: 0.3188 - accuracy: 0.8835 - val_loss: 0.3462 - val_accuracy: 0.8714\n",
      "Epoch 15/15\n",
      "782/782 [==============================] - 79s 101ms/step - loss: 0.3131 - accuracy: 0.8847 - val_loss: 0.3607 - val_accuracy: 0.8614\n"
     ]
    }
   ],
   "source": [
    "history4 = model4.fit(trainDS, epochs=15, validation_data=valDS)"
   ]
  },
  {
   "cell_type": "code",
   "execution_count": 35,
   "metadata": {},
   "outputs": [
    {
     "data": {
      "image/png": "[encoded data removed]",
      "text/plain": [
       "<Figure size 576x576 with 2 Axes>"
      ]
     },
     "metadata": {
      "needs_background": "light"
     },
     "output_type": "display_data"
    }
   ],
   "source": [
    "plotFallOffGraph(history4)"
   ]
  },
  {
   "cell_type": "code",
   "execution_count": 36,
   "metadata": {},
   "outputs": [
    {
     "name": "stdout",
     "output_type": "stream",
     "text": [
      "The highest validation obtained: 0.8766999840736389\n",
      "The lowest loss obtained: 0.330683171749115\n"
     ]
    }
   ],
   "source": [
    "print(f'The highest validation accuracy obtained: {max(history4.history[\"val_accuracy\"])}')\n",
    "print(f'The lowest loss obtained: {min(history4.history[\"val_loss\"])}')"
   ]
  },
  {
   "cell_type": "markdown",
   "metadata": {},
   "source": [
    "Saving Model 4"
   ]
  },
  {
   "cell_type": "code",
   "execution_count": 37,
   "metadata": {},
   "outputs": [
    {
     "name": "stderr",
     "output_type": "stream",
     "text": [
      "WARNING:absl:Found untraced functions such as _jit_compiled_convolution_op, _jit_compiled_convolution_op, _jit_compiled_convolution_op, _jit_compiled_convolution_op, _jit_compiled_convolution_op while saving (showing 5 of 12). These functions will not be directly callable after loading.\n"
     ]
    },
    {
     "name": "stdout",
     "output_type": "stream",
     "text": [
      "INFO:tensorflow:Assets written to: ./Models/Model4/assets\n"
     ]
    },
    {
     "name": "stderr",
     "output_type": "stream",
     "text": [
      "INFO:tensorflow:Assets written to: ./Models/Model4/assets\n"
     ]
    }
   ],
   "source": [
    "model4.save('./Models/Model4/')"
   ]
  },
  {
   "cell_type": "code",
   "execution_count": 38,
   "metadata": {},
   "outputs": [],
   "source": [
    "tf.keras.backend.clear_session()"
   ]
  },
  {
   "cell_type": "markdown",
   "metadata": {},
   "source": [
    "# Candidate Models #\n",
    "The Models that I will be choosing to be candidate models are Model 2 and Model 4 which will be now called Model A and Model B respectively because for both models they have the highest accuracy between all of the 4 models  \n",
    "However as a way to make sure the correct model will be chosen as the final model, both candidate models will be hyperparameter tuned\n",
    "\n",
    "This was done to ensure that both candidate models has a chance to be tested and find out which will perform better on the test set which will contain unseen data and will be the final test to choose the final model to be used"
   ]
  },
  {
   "cell_type": "markdown",
   "metadata": {},
   "source": [
    "## Models Hyperparameter Training Parameters and imports ##"
   ]
  },
  {
   "cell_type": "code",
   "execution_count": 12,
   "metadata": {},
   "outputs": [],
   "source": [
    "import keras_tuner as kt"
   ]
  },
  {
   "cell_type": "markdown",
   "metadata": {},
   "source": [
    "## Building Models for Hyperparameter Tuning ##"
   ]
  },
  {
   "cell_type": "code",
   "execution_count": 13,
   "metadata": {},
   "outputs": [],
   "source": [
    "def CandidateABuilder(hp):\n",
    "    hp_learning_rate = hp.Choice('learning_rate', values=[1e-3, 15e-4, 1e-4, 2e-3, 25e-4, 2e-4])\n",
    "    hp_activation_func = hp.Choice('activation', values=['relu', 'sigmoid', 'tanh', 'swish'])\n",
    "\n",
    "    input = layers.Input((28, 28, 1))\n",
    "    x = layers.Rescaling(1/255)(input)\n",
    "\n",
    "    x = layers.Conv2D(16, 3, padding='same', activation=hp_activation_func)(x)\n",
    "    x = layers.Conv2D(32, 3, padding='same', activation=hp_activation_func)(x)\n",
    "    x = layers.BatchNormalization()(x)\n",
    "    x = layers.MaxPool2D()(x)\n",
    "\n",
    "    x = layers.Dense(64, activation=hp_activation_func)(x)\n",
    "    x = layers.BatchNormalization()(x)\n",
    "    x = layers.Dropout(0.2)(x)\n",
    "    x = layers.Dense(128, activation=hp_activation_func)(x)\n",
    "    x = layers.BatchNormalization()(x)\n",
    "\n",
    "    x = layers.Conv2D(256, 3, padding='same', activation=hp_activation_func)(x)\n",
    "    x = layers.Conv2D(128, 3, padding='same', activation=hp_activation_func)(x)\n",
    "    x = layers.BatchNormalization()(x)\n",
    "    x = layers.MaxPool2D()(x)\n",
    "\n",
    "    x = layers.Flatten()(x)\n",
    "    x = layers.Dense(64, activation=hp_activation_func)(x)\n",
    "    x = layers.BatchNormalization()(x)\n",
    "    output = layers.Dense(fmnist_numClasses, activation='softmax')(x)\n",
    "\n",
    "    model = keras.Model(inputs=input, outputs=output, name='Model_A')\n",
    "    \n",
    "    model.compile(optimizer=keras.optimizers.Adam(learning_rate=hp_learning_rate), loss=keras.losses.SparseCategoricalCrossentropy(), metrics=['accuracy'])\n",
    "\n",
    "    return model"
   ]
  },
  {
   "cell_type": "code",
   "execution_count": 14,
   "metadata": {},
   "outputs": [],
   "source": [
    "def CandidateBBuilder(hp):\n",
    "    hp_learning_rate = hp.Choice('learning_rate', values=[1e-3, 15e-4, 1e-4, 2e-3, 25e-4, 2e-4])\n",
    "    hp_activation_func = hp.Choice('activation', values=['relu', 'sigmoid', 'tanh', 'swish'])\n",
    "\n",
    "    input = layers.Input((28, 28, 1))\n",
    "    x = layers.Rescaling(1/255)(input)\n",
    "\n",
    "    x = layers.Conv2D(64, 3, padding='same', activation=hp_activation_func)(x)\n",
    "    x = layers.Conv2D(32, 1, padding='same', activation=hp_activation_func)(x)\n",
    "    x = layers.Conv2D(64, 3, padding='same', activation=hp_activation_func)(x)\n",
    "    x = layers.BatchNormalization()(x)\n",
    "\n",
    "    x = layers.Conv2D(128, 3, padding='same', activation=hp_activation_func)(x)\n",
    "    x = layers.Conv2D(64, 1, padding='same', activation=hp_activation_func)(x)\n",
    "    x = layers.Conv2D(128, 3, padding='same', activation=hp_activation_func)(x)\n",
    "    x = layers.BatchNormalization()(x)\n",
    "    x = layers.MaxPool2D()(x)\n",
    "\n",
    "    x = layers.Dense(32, activation=hp_activation_func)(x)\n",
    "    x = layers.BatchNormalization()(x)\n",
    "\n",
    "    x = layers.Conv2D(128, 3, padding='same', activation=hp_activation_func)(x)\n",
    "    x = layers.Conv2D(64, 1, padding='same', activation=hp_activation_func)(x)\n",
    "    x = layers.Conv2D(128, 3, padding='same', activation=hp_activation_func)(x)\n",
    "    x = layers.BatchNormalization()(x)\n",
    "\n",
    "    x = layers.Conv2D(64, 3, padding='same', activation=hp_activation_func)(x)\n",
    "    x = layers.Conv2D(32, 1, padding='same', activation=hp_activation_func)(x)\n",
    "    x = layers.Conv2D(64, 3, padding='same', activation=hp_activation_func)(x)\n",
    "    x = layers.BatchNormalization()(x)\n",
    "\n",
    "    x = layers.Dropout(0.2)(x)\n",
    "    x = layers.Flatten()(x)\n",
    "    x = layers.Dense(256, activation=hp_activation_func)(x)\n",
    "    x = layers.BatchNormalization()(x)\n",
    "\n",
    "    output = layers.Dense(fmnist_numClasses, activation='softmax')(x)\n",
    "\n",
    "    model = keras.Model(inputs=input, outputs=output, name='Model_B')\n",
    "    \n",
    "    model.compile(optimizer=keras.optimizers.Adam(learning_rate=hp_learning_rate), loss=keras.losses.SparseCategoricalCrossentropy(), metrics=['accuracy'])\n",
    "\n",
    "    return model"
   ]
  },
  {
   "cell_type": "markdown",
   "metadata": {},
   "source": [
    "## Hyperparameter Tuning The Finalised Model ##\n",
    "\n",
    "The tuning algorithm that I will be using is Hyperband which can be inplemented using KerasTuner\n",
    "Paper that introduced Hyperband: http://jmlr.org/papers/v18/16-558.html"
   ]
  },
  {
   "cell_type": "code",
   "execution_count": 15,
   "metadata": {},
   "outputs": [
    {
     "name": "stdout",
     "output_type": "stream",
     "text": [
      "INFO:tensorflow:Reloading Oracle from existing project .\\Hypertuned_ModelA\\oracle.json\n",
      "INFO:tensorflow:Reloading Tuner from .\\Hypertuned_ModelA\\tuner0.json\n"
     ]
    }
   ],
   "source": [
    "tunerA = kt.Hyperband(CandidateABuilder, objective='val_accuracy', project_name='Hypertuned_ModelA', hyperband_iterations=3, seed=42)"
   ]
  },
  {
   "cell_type": "code",
   "execution_count": 16,
   "metadata": {},
   "outputs": [
    {
     "name": "stdout",
     "output_type": "stream",
     "text": [
      "INFO:tensorflow:Reloading Oracle from existing project .\\Hypertuned_ModelB\\oracle.json\n",
      "INFO:tensorflow:Reloading Tuner from .\\Hypertuned_ModelB\\tuner0.json\n"
     ]
    }
   ],
   "source": [
    "tunerB = kt.Hyperband(CandidateBBuilder, objective='val_accuracy', project_name='Hypertuned_ModelB', hyperband_iterations=3, seed=42)"
   ]
  },
  {
   "cell_type": "markdown",
   "metadata": {},
   "source": [
    "### Searching for best params ###"
   ]
  },
  {
   "cell_type": "code",
   "execution_count": 17,
   "metadata": {},
   "outputs": [
    {
     "name": "stdout",
     "output_type": "stream",
     "text": [
      "INFO:tensorflow:Oracle triggered exit\n",
      "Best learning rate: 0.0025\n",
      "Best activation function: swish\n"
     ]
    }
   ],
   "source": [
    "tunerA.search(trainDS, epochs=100, validation_data=valDS)\n",
    "\n",
    "best_hpsA = tunerA.get_best_hyperparameters(num_trials=1)[0]\n",
    "\n",
    "print(f'Best learning rate: {best_hpsA.get(\"learning_rate\")}')\n",
    "print(f'Best activation function: {best_hpsA.get(\"activation\")}')"
   ]
  },
  {
   "cell_type": "code",
   "execution_count": 18,
   "metadata": {},
   "outputs": [],
   "source": [
    "tf.keras.backend.clear_session()"
   ]
  },
  {
   "cell_type": "code",
   "execution_count": 19,
   "metadata": {},
   "outputs": [
    {
     "name": "stdout",
     "output_type": "stream",
     "text": [
      "INFO:tensorflow:Oracle triggered exit\n",
      "Best learning rate: 0.0002\n",
      "Best activation function: swish\n"
     ]
    }
   ],
   "source": [
    "tunerB.search(trainDS, epochs=100, validation_data=valDS)\n",
    "\n",
    "best_hpsB = tunerB.get_best_hyperparameters(num_trials=1)[0]\n",
    "\n",
    "print(f'Best learning rate: {best_hpsB.get(\"learning_rate\")}')\n",
    "print(f'Best activation function: {best_hpsB.get(\"activation\")}')"
   ]
  },
  {
   "cell_type": "code",
   "execution_count": 20,
   "metadata": {},
   "outputs": [],
   "source": [
    "tf.keras.backend.clear_session()"
   ]
  },
  {
   "cell_type": "markdown",
   "metadata": {},
   "source": [
    "### Building and Training Models with best Hyperparameters ###"
   ]
  },
  {
   "cell_type": "markdown",
   "metadata": {},
   "source": [
    "#### Model A ####\n",
    "\n",
    "<p style='text-align: center'>\n",
    "    <b>Best Learning Rate using Adam Optimiser: 0.0025</b>\n",
    "</p>\n",
    "\n",
    "<img src='Images/ModelA_Arch.png' width='300' height='500' style='display:block; margin: auto'/>\n",
    "<p style='text-align: center'>\n",
    "    <b>Model A Architecture</b>\n",
    "</p>"
   ]
  },
  {
   "cell_type": "markdown",
   "metadata": {},
   "source": [
    "Setting up Model Checkpoint Callback"
   ]
  },
  {
   "cell_type": "code",
   "execution_count": 21,
   "metadata": {},
   "outputs": [],
   "source": [
    "model_checkpoint_callbackA = tf.keras.callbacks.ModelCheckpoint(\n",
    "    filepath='./Checkpoints/ModelA',\n",
    "    save_weights_only=True,\n",
    "    monitor='val_accuracy',\n",
    "    mode='max',\n",
    "    save_best_only=True\n",
    ")"
   ]
  },
  {
   "cell_type": "markdown",
   "metadata": {},
   "source": [
    "Training for 100 Epochs to find the best epoch for validation accuracy"
   ]
  },
  {
   "cell_type": "code",
   "execution_count": 22,
   "metadata": {},
   "outputs": [],
   "source": [
    "best_hpsA = tunerA.get_best_hyperparameters(num_trials=1)[0]\n",
    "\n",
    "modelA = tunerA.hypermodel.build(best_hpsA)"
   ]
  },
  {
   "cell_type": "code",
   "execution_count": 23,
   "metadata": {},
   "outputs": [
    {
     "name": "stdout",
     "output_type": "stream",
     "text": [
      "Epoch 1/100\n",
      "782/782 [==============================] - 55s 64ms/step - loss: 0.8077 - accuracy: 0.7123 - val_loss: 1.1288 - val_accuracy: 0.6120\n",
      "Epoch 2/100\n",
      "782/782 [==============================] - 38s 49ms/step - loss: 0.5711 - accuracy: 0.7947 - val_loss: 0.7349 - val_accuracy: 0.7327\n",
      "Epoch 3/100\n",
      "782/782 [==============================] - 39s 50ms/step - loss: 0.5067 - accuracy: 0.8179 - val_loss: 0.5483 - val_accuracy: 0.8030\n",
      "Epoch 4/100\n",
      "782/782 [==============================] - 40s 51ms/step - loss: 0.4665 - accuracy: 0.8310 - val_loss: 0.5504 - val_accuracy: 0.7967\n",
      "Epoch 5/100\n",
      "782/782 [==============================] - 38s 49ms/step - loss: 0.4346 - accuracy: 0.8430 - val_loss: 0.5606 - val_accuracy: 0.7921\n",
      "Epoch 6/100\n",
      "782/782 [==============================] - 39s 50ms/step - loss: 0.4153 - accuracy: 0.8506 - val_loss: 0.4342 - val_accuracy: 0.8433\n",
      "Epoch 7/100\n",
      "782/782 [==============================] - 39s 50ms/step - loss: 0.3994 - accuracy: 0.8564 - val_loss: 0.5057 - val_accuracy: 0.8115\n",
      "Epoch 8/100\n",
      "782/782 [==============================] - 39s 49ms/step - loss: 0.3872 - accuracy: 0.8618 - val_loss: 0.4331 - val_accuracy: 0.8390\n",
      "Epoch 9/100\n",
      "782/782 [==============================] - 39s 49ms/step - loss: 0.3762 - accuracy: 0.8647 - val_loss: 0.4019 - val_accuracy: 0.8531\n",
      "Epoch 10/100\n",
      "782/782 [==============================] - 38s 49ms/step - loss: 0.3599 - accuracy: 0.8700 - val_loss: 0.4320 - val_accuracy: 0.8377\n",
      "Epoch 11/100\n",
      "782/782 [==============================] - 38s 49ms/step - loss: 0.3594 - accuracy: 0.8690 - val_loss: 0.4103 - val_accuracy: 0.8527\n",
      "Epoch 12/100\n",
      "782/782 [==============================] - 38s 49ms/step - loss: 0.3470 - accuracy: 0.8750 - val_loss: 0.3733 - val_accuracy: 0.8630\n",
      "Epoch 13/100\n",
      "782/782 [==============================] - 38s 49ms/step - loss: 0.3429 - accuracy: 0.8767 - val_loss: 0.5296 - val_accuracy: 0.8088\n",
      "Epoch 14/100\n",
      "782/782 [==============================] - 38s 49ms/step - loss: 0.3317 - accuracy: 0.8806 - val_loss: 0.3643 - val_accuracy: 0.8671\n",
      "Epoch 15/100\n",
      "782/782 [==============================] - 38s 49ms/step - loss: 0.3249 - accuracy: 0.8824 - val_loss: 0.3693 - val_accuracy: 0.8683\n",
      "Epoch 16/100\n",
      "782/782 [==============================] - 39s 50ms/step - loss: 0.3224 - accuracy: 0.8830 - val_loss: 0.3747 - val_accuracy: 0.8664\n",
      "Epoch 17/100\n",
      "782/782 [==============================] - 38s 48ms/step - loss: 0.3110 - accuracy: 0.8887 - val_loss: 0.3203 - val_accuracy: 0.8816\n",
      "Epoch 18/100\n",
      "782/782 [==============================] - 39s 50ms/step - loss: 0.3102 - accuracy: 0.8876 - val_loss: 0.3214 - val_accuracy: 0.8826\n",
      "Epoch 19/100\n",
      "782/782 [==============================] - 38s 49ms/step - loss: 0.3077 - accuracy: 0.8892 - val_loss: 0.3465 - val_accuracy: 0.8727\n",
      "Epoch 20/100\n",
      "782/782 [==============================] - 39s 49ms/step - loss: 0.3037 - accuracy: 0.8898 - val_loss: 0.3311 - val_accuracy: 0.8794\n",
      "Epoch 21/100\n",
      "782/782 [==============================] - 39s 50ms/step - loss: 0.2966 - accuracy: 0.8927 - val_loss: 0.3554 - val_accuracy: 0.8725\n",
      "Epoch 22/100\n",
      "782/782 [==============================] - 38s 49ms/step - loss: 0.2914 - accuracy: 0.8953 - val_loss: 0.3662 - val_accuracy: 0.8668\n",
      "Epoch 23/100\n",
      "782/782 [==============================] - 39s 50ms/step - loss: 0.2906 - accuracy: 0.8953 - val_loss: 0.3774 - val_accuracy: 0.8649\n",
      "Epoch 24/100\n",
      "782/782 [==============================] - 39s 50ms/step - loss: 0.2858 - accuracy: 0.8958 - val_loss: 0.3608 - val_accuracy: 0.8703\n",
      "Epoch 25/100\n",
      "782/782 [==============================] - 39s 50ms/step - loss: 0.2840 - accuracy: 0.8974 - val_loss: 0.4498 - val_accuracy: 0.8430\n",
      "Epoch 26/100\n",
      "782/782 [==============================] - 39s 49ms/step - loss: 0.2819 - accuracy: 0.8966 - val_loss: 0.2984 - val_accuracy: 0.8908\n",
      "Epoch 27/100\n",
      "782/782 [==============================] - 39s 50ms/step - loss: 0.2773 - accuracy: 0.9005 - val_loss: 0.3864 - val_accuracy: 0.8575\n",
      "Epoch 28/100\n",
      "782/782 [==============================] - 40s 51ms/step - loss: 0.2779 - accuracy: 0.9005 - val_loss: 0.4492 - val_accuracy: 0.8352\n",
      "Epoch 29/100\n",
      "782/782 [==============================] - 40s 51ms/step - loss: 0.2757 - accuracy: 0.9007 - val_loss: 0.3172 - val_accuracy: 0.8802\n",
      "Epoch 30/100\n",
      "782/782 [==============================] - 40s 51ms/step - loss: 0.2706 - accuracy: 0.9031 - val_loss: 0.3182 - val_accuracy: 0.8871\n",
      "Epoch 31/100\n",
      "782/782 [==============================] - 39s 50ms/step - loss: 0.2685 - accuracy: 0.9035 - val_loss: 0.3109 - val_accuracy: 0.8843\n",
      "Epoch 32/100\n",
      "782/782 [==============================] - 42s 54ms/step - loss: 0.2667 - accuracy: 0.9046 - val_loss: 0.3952 - val_accuracy: 0.8546\n",
      "Epoch 33/100\n",
      "782/782 [==============================] - 44s 57ms/step - loss: 0.2623 - accuracy: 0.9040 - val_loss: 0.3088 - val_accuracy: 0.8909\n",
      "Epoch 34/100\n",
      "782/782 [==============================] - 54s 69ms/step - loss: 0.2612 - accuracy: 0.9054 - val_loss: 0.3102 - val_accuracy: 0.8895\n",
      "Epoch 35/100\n",
      "782/782 [==============================] - 44s 56ms/step - loss: 0.2580 - accuracy: 0.9067 - val_loss: 0.2752 - val_accuracy: 0.9015\n",
      "Epoch 36/100\n",
      "782/782 [==============================] - 39s 50ms/step - loss: 0.2576 - accuracy: 0.9074 - val_loss: 0.3061 - val_accuracy: 0.8886\n",
      "Epoch 37/100\n",
      "782/782 [==============================] - 39s 50ms/step - loss: 0.2566 - accuracy: 0.9070 - val_loss: 0.3071 - val_accuracy: 0.8858\n",
      "Epoch 38/100\n",
      "782/782 [==============================] - 40s 52ms/step - loss: 0.2533 - accuracy: 0.9081 - val_loss: 0.2816 - val_accuracy: 0.8953\n",
      "Epoch 39/100\n",
      "782/782 [==============================] - 39s 50ms/step - loss: 0.2492 - accuracy: 0.9098 - val_loss: 0.2924 - val_accuracy: 0.8981\n",
      "Epoch 40/100\n",
      "782/782 [==============================] - 39s 50ms/step - loss: 0.2512 - accuracy: 0.9089 - val_loss: 0.2739 - val_accuracy: 0.9040\n",
      "Epoch 41/100\n",
      "782/782 [==============================] - 40s 51ms/step - loss: 0.2489 - accuracy: 0.9112 - val_loss: 0.3241 - val_accuracy: 0.8825\n",
      "Epoch 42/100\n",
      "782/782 [==============================] - 39s 50ms/step - loss: 0.2467 - accuracy: 0.9105 - val_loss: 0.2650 - val_accuracy: 0.9016\n",
      "Epoch 43/100\n",
      "782/782 [==============================] - 39s 50ms/step - loss: 0.2479 - accuracy: 0.9096 - val_loss: 0.2925 - val_accuracy: 0.8951\n",
      "Epoch 44/100\n",
      "782/782 [==============================] - 41s 53ms/step - loss: 0.2447 - accuracy: 0.9113 - val_loss: 0.2793 - val_accuracy: 0.9005\n",
      "Epoch 45/100\n",
      "782/782 [==============================] - 39s 50ms/step - loss: 0.2421 - accuracy: 0.9122 - val_loss: 0.3213 - val_accuracy: 0.8848\n",
      "Epoch 46/100\n",
      "782/782 [==============================] - 38s 49ms/step - loss: 0.2428 - accuracy: 0.9122 - val_loss: 0.3095 - val_accuracy: 0.8866\n",
      "Epoch 47/100\n",
      "782/782 [==============================] - 39s 50ms/step - loss: 0.2390 - accuracy: 0.9138 - val_loss: 0.2721 - val_accuracy: 0.9005\n",
      "Epoch 48/100\n",
      "782/782 [==============================] - 40s 51ms/step - loss: 0.2369 - accuracy: 0.9154 - val_loss: 0.2862 - val_accuracy: 0.8977\n",
      "Epoch 49/100\n",
      "782/782 [==============================] - 40s 51ms/step - loss: 0.2352 - accuracy: 0.9152 - val_loss: 0.2547 - val_accuracy: 0.9075\n",
      "Epoch 50/100\n",
      "782/782 [==============================] - 39s 50ms/step - loss: 0.2347 - accuracy: 0.9148 - val_loss: 0.2909 - val_accuracy: 0.8963\n",
      "Epoch 51/100\n",
      "782/782 [==============================] - 38s 48ms/step - loss: 0.2346 - accuracy: 0.9149 - val_loss: 0.2650 - val_accuracy: 0.9088\n",
      "Epoch 52/100\n",
      "782/782 [==============================] - 39s 50ms/step - loss: 0.2342 - accuracy: 0.9143 - val_loss: 0.2611 - val_accuracy: 0.9055\n",
      "Epoch 53/100\n",
      "782/782 [==============================] - 37s 47ms/step - loss: 0.2301 - accuracy: 0.9163 - val_loss: 0.2617 - val_accuracy: 0.9052\n",
      "Epoch 54/100\n",
      "782/782 [==============================] - 37s 47ms/step - loss: 0.2287 - accuracy: 0.9165 - val_loss: 0.2875 - val_accuracy: 0.8981\n",
      "Epoch 55/100\n",
      "782/782 [==============================] - 37s 47ms/step - loss: 0.2264 - accuracy: 0.9185 - val_loss: 0.2782 - val_accuracy: 0.9018\n",
      "Epoch 56/100\n",
      "782/782 [==============================] - 37s 47ms/step - loss: 0.2308 - accuracy: 0.9155 - val_loss: 0.2700 - val_accuracy: 0.9007\n",
      "Epoch 57/100\n",
      "782/782 [==============================] - 40s 51ms/step - loss: 0.2270 - accuracy: 0.9187 - val_loss: 0.2864 - val_accuracy: 0.8979\n",
      "Epoch 58/100\n",
      "782/782 [==============================] - 40s 51ms/step - loss: 0.2264 - accuracy: 0.9172 - val_loss: 0.2812 - val_accuracy: 0.9000\n",
      "Epoch 59/100\n",
      "782/782 [==============================] - 40s 51ms/step - loss: 0.2241 - accuracy: 0.9173 - val_loss: 0.3002 - val_accuracy: 0.8939\n",
      "Epoch 60/100\n",
      "782/782 [==============================] - 40s 51ms/step - loss: 0.2210 - accuracy: 0.9195 - val_loss: 0.2672 - val_accuracy: 0.9055\n",
      "Epoch 61/100\n",
      "782/782 [==============================] - 40s 52ms/step - loss: 0.2255 - accuracy: 0.9184 - val_loss: 0.2913 - val_accuracy: 0.8988\n",
      "Epoch 62/100\n",
      "782/782 [==============================] - 40s 51ms/step - loss: 0.2235 - accuracy: 0.9192 - val_loss: 0.2590 - val_accuracy: 0.9086\n",
      "Epoch 63/100\n",
      "782/782 [==============================] - 40s 52ms/step - loss: 0.2199 - accuracy: 0.9195 - val_loss: 0.2784 - val_accuracy: 0.9023\n",
      "Epoch 64/100\n",
      "782/782 [==============================] - 40s 51ms/step - loss: 0.2197 - accuracy: 0.9199 - val_loss: 0.2743 - val_accuracy: 0.9011\n",
      "Epoch 65/100\n",
      "782/782 [==============================] - 40s 51ms/step - loss: 0.2200 - accuracy: 0.9201 - val_loss: 0.2641 - val_accuracy: 0.9079\n",
      "Epoch 66/100\n",
      "782/782 [==============================] - 40s 51ms/step - loss: 0.2173 - accuracy: 0.9200 - val_loss: 0.2740 - val_accuracy: 0.9031\n",
      "Epoch 67/100\n",
      "782/782 [==============================] - 40s 51ms/step - loss: 0.2188 - accuracy: 0.9200 - val_loss: 0.2680 - val_accuracy: 0.9033\n",
      "Epoch 68/100\n",
      "782/782 [==============================] - 40s 51ms/step - loss: 0.2171 - accuracy: 0.9211 - val_loss: 0.2594 - val_accuracy: 0.9076\n",
      "Epoch 69/100\n",
      "782/782 [==============================] - 40s 52ms/step - loss: 0.2169 - accuracy: 0.9215 - val_loss: 0.2452 - val_accuracy: 0.9129\n",
      "Epoch 70/100\n",
      "782/782 [==============================] - 40s 51ms/step - loss: 0.2135 - accuracy: 0.9214 - val_loss: 0.2483 - val_accuracy: 0.9125\n",
      "Epoch 71/100\n",
      "782/782 [==============================] - 40s 51ms/step - loss: 0.2159 - accuracy: 0.9218 - val_loss: 0.2512 - val_accuracy: 0.9110\n",
      "Epoch 72/100\n",
      "782/782 [==============================] - 39s 50ms/step - loss: 0.2123 - accuracy: 0.9232 - val_loss: 0.2744 - val_accuracy: 0.9025\n",
      "Epoch 73/100\n",
      "782/782 [==============================] - 36s 46ms/step - loss: 0.2110 - accuracy: 0.9234 - val_loss: 0.2530 - val_accuracy: 0.9085\n",
      "Epoch 74/100\n",
      "782/782 [==============================] - 38s 48ms/step - loss: 0.2117 - accuracy: 0.9222 - val_loss: 0.2995 - val_accuracy: 0.8939\n",
      "Epoch 75/100\n",
      "782/782 [==============================] - 38s 48ms/step - loss: 0.2107 - accuracy: 0.9239 - val_loss: 0.2886 - val_accuracy: 0.9003\n",
      "Epoch 76/100\n",
      "782/782 [==============================] - 37s 48ms/step - loss: 0.2107 - accuracy: 0.9230 - val_loss: 0.2864 - val_accuracy: 0.9018\n",
      "Epoch 77/100\n",
      "782/782 [==============================] - 39s 50ms/step - loss: 0.2116 - accuracy: 0.9233 - val_loss: 0.2860 - val_accuracy: 0.9028\n",
      "Epoch 78/100\n",
      "782/782 [==============================] - 37s 47ms/step - loss: 0.2094 - accuracy: 0.9240 - val_loss: 0.2500 - val_accuracy: 0.9138\n",
      "Epoch 79/100\n",
      "782/782 [==============================] - 39s 50ms/step - loss: 0.2068 - accuracy: 0.9248 - val_loss: 0.2682 - val_accuracy: 0.9047\n",
      "Epoch 80/100\n",
      "782/782 [==============================] - 39s 50ms/step - loss: 0.2055 - accuracy: 0.9248 - val_loss: 0.2554 - val_accuracy: 0.9102\n",
      "Epoch 81/100\n",
      "782/782 [==============================] - 37s 48ms/step - loss: 0.2076 - accuracy: 0.9250 - val_loss: 0.2908 - val_accuracy: 0.8989\n",
      "Epoch 82/100\n",
      "782/782 [==============================] - 36s 45ms/step - loss: 0.2037 - accuracy: 0.9259 - val_loss: 0.2770 - val_accuracy: 0.8998\n",
      "Epoch 83/100\n",
      "782/782 [==============================] - 37s 47ms/step - loss: 0.2062 - accuracy: 0.9243 - val_loss: 0.2562 - val_accuracy: 0.9076\n",
      "Epoch 84/100\n",
      "782/782 [==============================] - 35s 44ms/step - loss: 0.2053 - accuracy: 0.9263 - val_loss: 0.2453 - val_accuracy: 0.9132\n",
      "Epoch 85/100\n",
      "782/782 [==============================] - 35s 45ms/step - loss: 0.2060 - accuracy: 0.9253 - val_loss: 0.2398 - val_accuracy: 0.9153\n",
      "Epoch 86/100\n",
      "782/782 [==============================] - 36s 46ms/step - loss: 0.2024 - accuracy: 0.9264 - val_loss: 0.2441 - val_accuracy: 0.9098\n",
      "Epoch 87/100\n",
      "782/782 [==============================] - 35s 45ms/step - loss: 0.2024 - accuracy: 0.9265 - val_loss: 0.2488 - val_accuracy: 0.9140\n",
      "Epoch 88/100\n",
      "782/782 [==============================] - 35s 45ms/step - loss: 0.2037 - accuracy: 0.9261 - val_loss: 0.2642 - val_accuracy: 0.9089\n",
      "Epoch 89/100\n",
      "782/782 [==============================] - 35s 45ms/step - loss: 0.2045 - accuracy: 0.9248 - val_loss: 0.2373 - val_accuracy: 0.9162\n",
      "Epoch 90/100\n",
      "782/782 [==============================] - 36s 46ms/step - loss: 0.1996 - accuracy: 0.9275 - val_loss: 0.2646 - val_accuracy: 0.9068\n",
      "Epoch 91/100\n",
      "782/782 [==============================] - 36s 45ms/step - loss: 0.1989 - accuracy: 0.9271 - val_loss: 0.2566 - val_accuracy: 0.9090\n",
      "Epoch 92/100\n",
      "782/782 [==============================] - 35s 44ms/step - loss: 0.1996 - accuracy: 0.9275 - val_loss: 0.2448 - val_accuracy: 0.9137\n",
      "Epoch 93/100\n",
      "782/782 [==============================] - 35s 44ms/step - loss: 0.1974 - accuracy: 0.9274 - val_loss: 0.2884 - val_accuracy: 0.9003\n",
      "Epoch 94/100\n",
      "782/782 [==============================] - 35s 45ms/step - loss: 0.1995 - accuracy: 0.9258 - val_loss: 0.2579 - val_accuracy: 0.9098\n",
      "Epoch 95/100\n",
      "782/782 [==============================] - 35s 45ms/step - loss: 0.1932 - accuracy: 0.9294 - val_loss: 0.2511 - val_accuracy: 0.9129\n",
      "Epoch 96/100\n",
      "782/782 [==============================] - 35s 45ms/step - loss: 0.1972 - accuracy: 0.9277 - val_loss: 0.2968 - val_accuracy: 0.8971\n",
      "Epoch 97/100\n",
      "782/782 [==============================] - 35s 44ms/step - loss: 0.1970 - accuracy: 0.9292 - val_loss: 0.2543 - val_accuracy: 0.9108\n",
      "Epoch 98/100\n",
      "782/782 [==============================] - 36s 46ms/step - loss: 0.1947 - accuracy: 0.9297 - val_loss: 0.2561 - val_accuracy: 0.9076\n",
      "Epoch 99/100\n",
      "782/782 [==============================] - 35s 45ms/step - loss: 0.1986 - accuracy: 0.9280 - val_loss: 0.2404 - val_accuracy: 0.9153\n",
      "Epoch 100/100\n",
      "782/782 [==============================] - 35s 44ms/step - loss: 0.1922 - accuracy: 0.9296 - val_loss: 0.2581 - val_accuracy: 0.9074\n"
     ]
    }
   ],
   "source": [
    "historyA = modelA.fit(trainDS, epochs=100, validation_data=valDS, callbacks=[model_checkpoint_callbackA])"
   ]
  },
  {
   "cell_type": "markdown",
   "metadata": {},
   "source": [
    "Plotting Accuracy and Loss for 100 Epochs"
   ]
  },
  {
   "cell_type": "code",
   "execution_count": 24,
   "metadata": {},
   "outputs": [
    {
     "data": {
      "image/png": "[encoded data removed]",
      "text/plain": [
       "<Figure size 576x576 with 2 Axes>"
      ]
     },
     "metadata": {
      "needs_background": "light"
     },
     "output_type": "display_data"
    }
   ],
   "source": [
    "plotFallOffGraph(historyA)"
   ]
  },
  {
   "cell_type": "markdown",
   "metadata": {},
   "source": [
    "Model A's Best Epoch"
   ]
  },
  {
   "cell_type": "code",
   "execution_count": 25,
   "metadata": {},
   "outputs": [
    {
     "name": "stdout",
     "output_type": "stream",
     "text": [
      "Best Epoch: 89\n"
     ]
    }
   ],
   "source": [
    "val_acc_per_epochA = historyA.history['val_accuracy']\n",
    "best_epochA = val_acc_per_epochA.index(max(val_acc_per_epochA)) + 1\n",
    "print(f'Best Epoch: {best_epochA}')"
   ]
  },
  {
   "cell_type": "markdown",
   "metadata": {},
   "source": [
    "Model A's Train and Validation Accuracies"
   ]
  },
  {
   "cell_type": "code",
   "execution_count": 26,
   "metadata": {},
   "outputs": [
    {
     "name": "stdout",
     "output_type": "stream",
     "text": [
      "Training Accuracy: 0.9297400116920471\n",
      "Validation Accuracy: 0.9161999821662903\n"
     ]
    }
   ],
   "source": [
    "print(f'Training Accuracy: {max(historyA.history[\"accuracy\"])}')\n",
    "print(f'Validation Accuracy: {max(historyA.history[\"val_accuracy\"])}')"
   ]
  },
  {
   "cell_type": "markdown",
   "metadata": {},
   "source": [
    "Model A's Train and Validation Losses"
   ]
  },
  {
   "cell_type": "code",
   "execution_count": 27,
   "metadata": {},
   "outputs": [
    {
     "name": "stdout",
     "output_type": "stream",
     "text": [
      "Training Loss: 0.19222979247570038\n",
      "Validation Loss: 0.2372763603925705\n"
     ]
    }
   ],
   "source": [
    "print(f'Training Loss: {min(historyA.history[\"loss\"])}')\n",
    "print(f'Validation Loss: {min(historyA.history[\"val_loss\"])}')"
   ]
  },
  {
   "cell_type": "markdown",
   "metadata": {
    "tags": []
   },
   "source": [
    "Saving Model A"
   ]
  },
  {
   "cell_type": "code",
   "execution_count": 28,
   "metadata": {},
   "outputs": [
    {
     "data": {
      "text/plain": [
       "<tensorflow.python.training.tracking.util.CheckpointLoadStatus at 0x24776a5b160>"
      ]
     },
     "execution_count": 28,
     "metadata": {},
     "output_type": "execute_result"
    }
   ],
   "source": [
    "modelA.load_weights('./Checkpoints/ModelA')"
   ]
  },
  {
   "cell_type": "code",
   "execution_count": 29,
   "metadata": {},
   "outputs": [
    {
     "name": "stderr",
     "output_type": "stream",
     "text": [
      "WARNING:absl:Found untraced functions such as _jit_compiled_convolution_op, _jit_compiled_convolution_op, _jit_compiled_convolution_op, _jit_compiled_convolution_op while saving (showing 4 of 4). These functions will not be directly callable after loading.\n"
     ]
    },
    {
     "name": "stdout",
     "output_type": "stream",
     "text": [
      "INFO:tensorflow:Assets written to: ./Models/ModelA\\assets\n"
     ]
    },
    {
     "name": "stderr",
     "output_type": "stream",
     "text": [
      "INFO:tensorflow:Assets written to: ./Models/ModelA\\assets\n"
     ]
    }
   ],
   "source": [
    "modelA.save('./Models/ModelA')"
   ]
  },
  {
   "cell_type": "markdown",
   "metadata": {},
   "source": [
    "Clearing Session"
   ]
  },
  {
   "cell_type": "code",
   "execution_count": 30,
   "metadata": {},
   "outputs": [],
   "source": [
    "tf.keras.backend.clear_session()"
   ]
  },
  {
   "cell_type": "markdown",
   "metadata": {},
   "source": [
    "#### Model B ####\n",
    "\n",
    "<p style='text-align: center'>\n",
    "    <b>Best Learning Rate using Adam Optimiser: 0.0002</b>\n",
    "</p>\n",
    "\n",
    "<img src='Images/ModelB_Arch.png' width='300' height='500' style='display:block; margin: auto'/>\n",
    "<p style='text-align: center'>\n",
    "    <b>Model B Architecture</b>\n",
    "</p>"
   ]
  },
  {
   "cell_type": "markdown",
   "metadata": {},
   "source": [
    "Setting up Model Checkpoint Callback"
   ]
  },
  {
   "cell_type": "code",
   "execution_count": 31,
   "metadata": {},
   "outputs": [],
   "source": [
    "model_checkpoint_callbackB = tf.keras.callbacks.ModelCheckpoint(\n",
    "    filepath='./Checkpoints/ModelB',\n",
    "    save_weights_only=True,\n",
    "    monitor='val_accuracy',\n",
    "    mode='max',\n",
    "    save_best_only=True\n",
    ")"
   ]
  },
  {
   "cell_type": "code",
   "execution_count": 32,
   "metadata": {},
   "outputs": [],
   "source": [
    "best_hpsB = tunerB.get_best_hyperparameters(num_trials=1)[0]\n",
    "\n",
    "modelB = tunerB.hypermodel.build(best_hpsB)"
   ]
  },
  {
   "cell_type": "code",
   "execution_count": 33,
   "metadata": {},
   "outputs": [
    {
     "name": "stdout",
     "output_type": "stream",
     "text": [
      "Epoch 1/100\n",
      "782/782 [==============================] - 53s 65ms/step - loss: 0.8457 - accuracy: 0.6993 - val_loss: 0.8208 - val_accuracy: 0.7115\n",
      "Epoch 2/100\n",
      "782/782 [==============================] - 50s 64ms/step - loss: 0.5857 - accuracy: 0.7884 - val_loss: 0.5795 - val_accuracy: 0.7882\n",
      "Epoch 3/100\n",
      "782/782 [==============================] - 50s 64ms/step - loss: 0.5102 - accuracy: 0.8155 - val_loss: 0.6472 - val_accuracy: 0.7633\n",
      "Epoch 4/100\n",
      "782/782 [==============================] - 50s 64ms/step - loss: 0.4636 - accuracy: 0.8310 - val_loss: 0.5132 - val_accuracy: 0.8094\n",
      "Epoch 5/100\n",
      "782/782 [==============================] - 50s 64ms/step - loss: 0.4305 - accuracy: 0.8442 - val_loss: 0.3930 - val_accuracy: 0.8569\n",
      "Epoch 6/100\n",
      "782/782 [==============================] - 50s 63ms/step - loss: 0.4011 - accuracy: 0.8537 - val_loss: 0.4186 - val_accuracy: 0.8479\n",
      "Epoch 7/100\n",
      "782/782 [==============================] - 49s 63ms/step - loss: 0.3833 - accuracy: 0.8611 - val_loss: 0.4530 - val_accuracy: 0.8403\n",
      "Epoch 8/100\n",
      "782/782 [==============================] - 50s 64ms/step - loss: 0.3679 - accuracy: 0.8679 - val_loss: 0.3701 - val_accuracy: 0.8683\n",
      "Epoch 9/100\n",
      "782/782 [==============================] - 50s 64ms/step - loss: 0.3548 - accuracy: 0.8725 - val_loss: 0.4095 - val_accuracy: 0.8516\n",
      "Epoch 10/100\n",
      "782/782 [==============================] - 49s 63ms/step - loss: 0.3396 - accuracy: 0.8791 - val_loss: 0.4850 - val_accuracy: 0.8290\n",
      "Epoch 11/100\n",
      "782/782 [==============================] - 50s 64ms/step - loss: 0.3302 - accuracy: 0.8803 - val_loss: 0.3345 - val_accuracy: 0.8776\n",
      "Epoch 12/100\n",
      "782/782 [==============================] - 50s 63ms/step - loss: 0.3190 - accuracy: 0.8847 - val_loss: 0.3459 - val_accuracy: 0.8748\n",
      "Epoch 13/100\n",
      "782/782 [==============================] - 50s 63ms/step - loss: 0.3143 - accuracy: 0.8871 - val_loss: 0.3536 - val_accuracy: 0.8738\n",
      "Epoch 14/100\n",
      "782/782 [==============================] - 50s 64ms/step - loss: 0.3043 - accuracy: 0.8901 - val_loss: 0.3166 - val_accuracy: 0.8857\n",
      "Epoch 15/100\n",
      "782/782 [==============================] - 50s 63ms/step - loss: 0.3009 - accuracy: 0.8916 - val_loss: 0.3952 - val_accuracy: 0.8627\n",
      "Epoch 16/100\n",
      "782/782 [==============================] - 50s 63ms/step - loss: 0.2937 - accuracy: 0.8945 - val_loss: 0.3226 - val_accuracy: 0.8814\n",
      "Epoch 17/100\n",
      "782/782 [==============================] - 50s 64ms/step - loss: 0.2839 - accuracy: 0.8971 - val_loss: 0.2914 - val_accuracy: 0.8911\n",
      "Epoch 18/100\n",
      "782/782 [==============================] - 50s 63ms/step - loss: 0.2801 - accuracy: 0.8991 - val_loss: 0.3234 - val_accuracy: 0.8848\n",
      "Epoch 19/100\n",
      "782/782 [==============================] - 50s 63ms/step - loss: 0.2743 - accuracy: 0.9014 - val_loss: 0.3182 - val_accuracy: 0.8851\n",
      "Epoch 20/100\n",
      "782/782 [==============================] - 50s 64ms/step - loss: 0.2702 - accuracy: 0.9008 - val_loss: 0.3022 - val_accuracy: 0.8946\n",
      "Epoch 21/100\n",
      "782/782 [==============================] - 50s 64ms/step - loss: 0.2678 - accuracy: 0.9028 - val_loss: 0.3227 - val_accuracy: 0.8854\n",
      "Epoch 22/100\n",
      "782/782 [==============================] - 50s 64ms/step - loss: 0.2673 - accuracy: 0.9039 - val_loss: 0.2648 - val_accuracy: 0.9048\n",
      "Epoch 23/100\n",
      "782/782 [==============================] - 50s 64ms/step - loss: 0.2604 - accuracy: 0.9062 - val_loss: 0.2862 - val_accuracy: 0.8952\n",
      "Epoch 24/100\n",
      "782/782 [==============================] - 50s 64ms/step - loss: 0.2561 - accuracy: 0.9070 - val_loss: 0.2657 - val_accuracy: 0.9026\n",
      "Epoch 25/100\n",
      "782/782 [==============================] - 51s 65ms/step - loss: 0.2513 - accuracy: 0.9093 - val_loss: 0.2559 - val_accuracy: 0.9062\n",
      "Epoch 26/100\n",
      "782/782 [==============================] - 50s 64ms/step - loss: 0.2471 - accuracy: 0.9101 - val_loss: 0.2655 - val_accuracy: 0.9042\n",
      "Epoch 27/100\n",
      "782/782 [==============================] - 50s 64ms/step - loss: 0.2470 - accuracy: 0.9101 - val_loss: 0.3167 - val_accuracy: 0.8894\n",
      "Epoch 28/100\n",
      "782/782 [==============================] - 50s 64ms/step - loss: 0.2453 - accuracy: 0.9111 - val_loss: 0.2667 - val_accuracy: 0.9045\n",
      "Epoch 29/100\n",
      "782/782 [==============================] - 50s 63ms/step - loss: 0.2418 - accuracy: 0.9129 - val_loss: 0.3025 - val_accuracy: 0.8927\n",
      "Epoch 30/100\n",
      "782/782 [==============================] - 50s 64ms/step - loss: 0.2402 - accuracy: 0.9135 - val_loss: 0.2601 - val_accuracy: 0.9063\n",
      "Epoch 31/100\n",
      "782/782 [==============================] - 50s 64ms/step - loss: 0.2367 - accuracy: 0.9138 - val_loss: 0.2684 - val_accuracy: 0.9030\n",
      "Epoch 32/100\n",
      "782/782 [==============================] - 50s 64ms/step - loss: 0.2326 - accuracy: 0.9161 - val_loss: 0.2787 - val_accuracy: 0.9024\n",
      "Epoch 33/100\n",
      "782/782 [==============================] - 50s 64ms/step - loss: 0.2291 - accuracy: 0.9163 - val_loss: 0.3157 - val_accuracy: 0.8830\n",
      "Epoch 34/100\n",
      "782/782 [==============================] - 50s 64ms/step - loss: 0.2287 - accuracy: 0.9175 - val_loss: 0.2420 - val_accuracy: 0.9123\n",
      "Epoch 35/100\n",
      "782/782 [==============================] - 50s 64ms/step - loss: 0.2278 - accuracy: 0.9172 - val_loss: 0.2535 - val_accuracy: 0.9085\n",
      "Epoch 36/100\n",
      "782/782 [==============================] - 50s 64ms/step - loss: 0.2225 - accuracy: 0.9196 - val_loss: 0.2559 - val_accuracy: 0.9082\n",
      "Epoch 37/100\n",
      "782/782 [==============================] - 50s 64ms/step - loss: 0.2240 - accuracy: 0.9186 - val_loss: 0.2602 - val_accuracy: 0.9027\n",
      "Epoch 38/100\n",
      "782/782 [==============================] - 50s 64ms/step - loss: 0.2219 - accuracy: 0.9190 - val_loss: 0.2380 - val_accuracy: 0.9150\n",
      "Epoch 39/100\n",
      "782/782 [==============================] - 50s 64ms/step - loss: 0.2189 - accuracy: 0.9210 - val_loss: 0.2412 - val_accuracy: 0.9109\n",
      "Epoch 40/100\n",
      "782/782 [==============================] - 50s 64ms/step - loss: 0.2200 - accuracy: 0.9204 - val_loss: 0.2575 - val_accuracy: 0.9068\n",
      "Epoch 41/100\n",
      "782/782 [==============================] - 50s 63ms/step - loss: 0.2165 - accuracy: 0.9228 - val_loss: 0.2446 - val_accuracy: 0.9122\n",
      "Epoch 42/100\n",
      "782/782 [==============================] - 50s 64ms/step - loss: 0.2142 - accuracy: 0.9221 - val_loss: 0.2354 - val_accuracy: 0.9161\n",
      "Epoch 43/100\n",
      "782/782 [==============================] - 50s 64ms/step - loss: 0.2135 - accuracy: 0.9221 - val_loss: 0.2513 - val_accuracy: 0.9101\n",
      "Epoch 44/100\n",
      "782/782 [==============================] - 50s 64ms/step - loss: 0.2116 - accuracy: 0.9229 - val_loss: 0.2324 - val_accuracy: 0.9193\n",
      "Epoch 45/100\n",
      "782/782 [==============================] - 50s 64ms/step - loss: 0.2062 - accuracy: 0.9256 - val_loss: 0.2384 - val_accuracy: 0.9135\n",
      "Epoch 46/100\n",
      "782/782 [==============================] - 50s 64ms/step - loss: 0.2066 - accuracy: 0.9249 - val_loss: 0.2349 - val_accuracy: 0.9134\n",
      "Epoch 47/100\n",
      "782/782 [==============================] - 50s 64ms/step - loss: 0.2063 - accuracy: 0.9251 - val_loss: 0.2471 - val_accuracy: 0.9123\n",
      "Epoch 48/100\n",
      "782/782 [==============================] - 50s 64ms/step - loss: 0.2052 - accuracy: 0.9247 - val_loss: 0.2518 - val_accuracy: 0.9079\n",
      "Epoch 49/100\n",
      "782/782 [==============================] - 50s 64ms/step - loss: 0.2040 - accuracy: 0.9256 - val_loss: 0.2494 - val_accuracy: 0.9101\n",
      "Epoch 50/100\n",
      "782/782 [==============================] - 50s 64ms/step - loss: 0.2036 - accuracy: 0.9253 - val_loss: 0.2460 - val_accuracy: 0.9108\n",
      "Epoch 51/100\n",
      "782/782 [==============================] - 50s 64ms/step - loss: 0.2020 - accuracy: 0.9268 - val_loss: 0.2357 - val_accuracy: 0.9147\n",
      "Epoch 52/100\n",
      "782/782 [==============================] - 50s 64ms/step - loss: 0.1995 - accuracy: 0.9276 - val_loss: 0.2445 - val_accuracy: 0.9140\n",
      "Epoch 53/100\n",
      "782/782 [==============================] - 50s 64ms/step - loss: 0.1996 - accuracy: 0.9282 - val_loss: 0.2423 - val_accuracy: 0.9119\n",
      "Epoch 54/100\n",
      "782/782 [==============================] - 50s 64ms/step - loss: 0.1998 - accuracy: 0.9274 - val_loss: 0.2316 - val_accuracy: 0.9169\n",
      "Epoch 55/100\n",
      "782/782 [==============================] - 50s 64ms/step - loss: 0.1970 - accuracy: 0.9275 - val_loss: 0.2433 - val_accuracy: 0.9136\n",
      "Epoch 56/100\n",
      "782/782 [==============================] - 50s 64ms/step - loss: 0.1916 - accuracy: 0.9298 - val_loss: 0.2563 - val_accuracy: 0.9105\n",
      "Epoch 57/100\n",
      "782/782 [==============================] - 50s 64ms/step - loss: 0.1934 - accuracy: 0.9299 - val_loss: 0.2424 - val_accuracy: 0.9130\n",
      "Epoch 58/100\n",
      "782/782 [==============================] - 50s 64ms/step - loss: 0.1940 - accuracy: 0.9295 - val_loss: 0.2511 - val_accuracy: 0.9106\n",
      "Epoch 59/100\n",
      "782/782 [==============================] - 50s 64ms/step - loss: 0.1939 - accuracy: 0.9291 - val_loss: 0.2382 - val_accuracy: 0.9148\n",
      "Epoch 60/100\n",
      "782/782 [==============================] - 50s 64ms/step - loss: 0.1895 - accuracy: 0.9318 - val_loss: 0.2359 - val_accuracy: 0.9163\n",
      "Epoch 61/100\n",
      "782/782 [==============================] - 50s 64ms/step - loss: 0.1934 - accuracy: 0.9295 - val_loss: 0.2371 - val_accuracy: 0.9151\n",
      "Epoch 62/100\n",
      "782/782 [==============================] - 50s 64ms/step - loss: 0.1891 - accuracy: 0.9315 - val_loss: 0.2172 - val_accuracy: 0.9212\n",
      "Epoch 63/100\n",
      "782/782 [==============================] - 50s 64ms/step - loss: 0.1871 - accuracy: 0.9319 - val_loss: 0.2299 - val_accuracy: 0.9182\n",
      "Epoch 64/100\n",
      "782/782 [==============================] - 52s 67ms/step - loss: 0.1871 - accuracy: 0.9319 - val_loss: 0.2108 - val_accuracy: 0.9242\n",
      "Epoch 65/100\n",
      "782/782 [==============================] - 52s 67ms/step - loss: 0.1864 - accuracy: 0.9327 - val_loss: 0.2511 - val_accuracy: 0.9117\n",
      "Epoch 66/100\n",
      "782/782 [==============================] - 53s 67ms/step - loss: 0.1851 - accuracy: 0.9328 - val_loss: 0.2324 - val_accuracy: 0.9175\n",
      "Epoch 67/100\n",
      "782/782 [==============================] - 55s 70ms/step - loss: 0.1822 - accuracy: 0.9330 - val_loss: 0.2545 - val_accuracy: 0.9129\n",
      "Epoch 68/100\n",
      "782/782 [==============================] - 55s 70ms/step - loss: 0.1815 - accuracy: 0.9325 - val_loss: 0.2280 - val_accuracy: 0.9178\n",
      "Epoch 69/100\n",
      "782/782 [==============================] - 54s 70ms/step - loss: 0.1842 - accuracy: 0.9321 - val_loss: 0.2319 - val_accuracy: 0.9182\n",
      "Epoch 70/100\n",
      "782/782 [==============================] - 52s 66ms/step - loss: 0.1793 - accuracy: 0.9356 - val_loss: 0.2316 - val_accuracy: 0.9170\n",
      "Epoch 71/100\n",
      "782/782 [==============================] - 52s 66ms/step - loss: 0.1784 - accuracy: 0.9339 - val_loss: 0.2279 - val_accuracy: 0.9203\n",
      "Epoch 72/100\n",
      "782/782 [==============================] - 53s 68ms/step - loss: 0.1818 - accuracy: 0.9338 - val_loss: 0.2257 - val_accuracy: 0.9186\n",
      "Epoch 73/100\n",
      "782/782 [==============================] - 53s 68ms/step - loss: 0.1806 - accuracy: 0.9338 - val_loss: 0.2405 - val_accuracy: 0.9174\n",
      "Epoch 74/100\n",
      "782/782 [==============================] - 54s 69ms/step - loss: 0.1771 - accuracy: 0.9350 - val_loss: 0.2630 - val_accuracy: 0.9071\n",
      "Epoch 75/100\n",
      "782/782 [==============================] - 54s 69ms/step - loss: 0.1763 - accuracy: 0.9354 - val_loss: 0.2261 - val_accuracy: 0.9211\n",
      "Epoch 76/100\n",
      "782/782 [==============================] - 54s 70ms/step - loss: 0.1768 - accuracy: 0.9357 - val_loss: 0.2083 - val_accuracy: 0.9287\n",
      "Epoch 77/100\n",
      "782/782 [==============================] - 56s 71ms/step - loss: 0.1736 - accuracy: 0.9369 - val_loss: 0.2149 - val_accuracy: 0.9257\n",
      "Epoch 78/100\n",
      "782/782 [==============================] - 55s 71ms/step - loss: 0.1726 - accuracy: 0.9368 - val_loss: 0.2243 - val_accuracy: 0.9202\n",
      "Epoch 79/100\n",
      "782/782 [==============================] - 53s 67ms/step - loss: 0.1739 - accuracy: 0.9371 - val_loss: 0.2115 - val_accuracy: 0.9249\n",
      "Epoch 80/100\n",
      "782/782 [==============================] - 53s 68ms/step - loss: 0.1709 - accuracy: 0.9378 - val_loss: 0.2115 - val_accuracy: 0.9246\n",
      "Epoch 81/100\n",
      "782/782 [==============================] - 53s 68ms/step - loss: 0.1701 - accuracy: 0.9386 - val_loss: 0.2422 - val_accuracy: 0.9125\n",
      "Epoch 82/100\n",
      "782/782 [==============================] - 52s 67ms/step - loss: 0.1701 - accuracy: 0.9385 - val_loss: 0.2203 - val_accuracy: 0.9197\n",
      "Epoch 83/100\n",
      "782/782 [==============================] - 52s 66ms/step - loss: 0.1702 - accuracy: 0.9366 - val_loss: 0.2315 - val_accuracy: 0.9185\n",
      "Epoch 84/100\n",
      "782/782 [==============================] - 52s 67ms/step - loss: 0.1659 - accuracy: 0.9398 - val_loss: 0.2341 - val_accuracy: 0.9192\n",
      "Epoch 85/100\n",
      "782/782 [==============================] - 51s 66ms/step - loss: 0.1681 - accuracy: 0.9389 - val_loss: 0.2414 - val_accuracy: 0.9169\n",
      "Epoch 86/100\n",
      "782/782 [==============================] - 53s 68ms/step - loss: 0.1702 - accuracy: 0.9378 - val_loss: 0.2357 - val_accuracy: 0.9181\n",
      "Epoch 87/100\n",
      "782/782 [==============================] - 55s 70ms/step - loss: 0.1683 - accuracy: 0.9390 - val_loss: 0.2205 - val_accuracy: 0.9239\n",
      "Epoch 88/100\n",
      "782/782 [==============================] - 53s 68ms/step - loss: 0.1658 - accuracy: 0.9388 - val_loss: 0.2298 - val_accuracy: 0.9204\n",
      "Epoch 89/100\n",
      "782/782 [==============================] - 53s 68ms/step - loss: 0.1660 - accuracy: 0.9400 - val_loss: 0.2392 - val_accuracy: 0.9153\n",
      "Epoch 90/100\n",
      "782/782 [==============================] - 53s 68ms/step - loss: 0.1634 - accuracy: 0.9399 - val_loss: 0.2167 - val_accuracy: 0.9268\n",
      "Epoch 91/100\n",
      "782/782 [==============================] - 52s 67ms/step - loss: 0.1647 - accuracy: 0.9413 - val_loss: 0.2176 - val_accuracy: 0.9235\n",
      "Epoch 92/100\n",
      "782/782 [==============================] - 54s 70ms/step - loss: 0.1618 - accuracy: 0.9402 - val_loss: 0.2448 - val_accuracy: 0.9149\n",
      "Epoch 93/100\n",
      "782/782 [==============================] - 58s 74ms/step - loss: 0.1621 - accuracy: 0.9402 - val_loss: 0.2250 - val_accuracy: 0.9214\n",
      "Epoch 94/100\n",
      "782/782 [==============================] - 61s 78ms/step - loss: 0.1615 - accuracy: 0.9407 - val_loss: 0.2186 - val_accuracy: 0.9239\n",
      "Epoch 95/100\n",
      "782/782 [==============================] - 61s 79ms/step - loss: 0.1630 - accuracy: 0.9398 - val_loss: 0.2086 - val_accuracy: 0.9277\n",
      "Epoch 96/100\n",
      "782/782 [==============================] - 60s 77ms/step - loss: 0.1615 - accuracy: 0.9411 - val_loss: 0.2163 - val_accuracy: 0.9248\n",
      "Epoch 97/100\n",
      "782/782 [==============================] - 60s 77ms/step - loss: 0.1601 - accuracy: 0.9404 - val_loss: 0.2178 - val_accuracy: 0.9242\n",
      "Epoch 98/100\n",
      "782/782 [==============================] - 61s 78ms/step - loss: 0.1600 - accuracy: 0.9419 - val_loss: 0.2200 - val_accuracy: 0.9227\n",
      "Epoch 99/100\n",
      "782/782 [==============================] - 59s 75ms/step - loss: 0.1616 - accuracy: 0.9418 - val_loss: 0.2244 - val_accuracy: 0.9215\n",
      "Epoch 100/100\n",
      "782/782 [==============================] - 59s 76ms/step - loss: 0.1560 - accuracy: 0.9419 - val_loss: 0.2254 - val_accuracy: 0.9206\n"
     ]
    }
   ],
   "source": [
    "historyB = modelB.fit(trainDS, epochs=100, validation_data=valDS, callbacks=[model_checkpoint_callbackB])"
   ]
  },
  {
   "cell_type": "markdown",
   "metadata": {},
   "source": [
    "Plotting Accuracy and Loss"
   ]
  },
  {
   "cell_type": "code",
   "execution_count": 34,
   "metadata": {},
   "outputs": [
    {
     "data": {
      "image/png": "[encoded data removed]",
      "text/plain": [
       "<Figure size 576x576 with 2 Axes>"
      ]
     },
     "metadata": {
      "needs_background": "light"
     },
     "output_type": "display_data"
    }
   ],
   "source": [
    "plotFallOffGraph(historyB)"
   ]
  },
  {
   "cell_type": "markdown",
   "metadata": {},
   "source": [
    "Model B's Best Epoch"
   ]
  },
  {
   "cell_type": "code",
   "execution_count": 35,
   "metadata": {},
   "outputs": [
    {
     "name": "stdout",
     "output_type": "stream",
     "text": [
      "Best Epoch: 76\n"
     ]
    }
   ],
   "source": [
    "val_acc_per_epochB = historyB.history['val_accuracy']\n",
    "best_epochB = val_acc_per_epochB.index(max(val_acc_per_epochB)) + 1\n",
    "print(f'Best Epoch: {best_epochB}')"
   ]
  },
  {
   "cell_type": "markdown",
   "metadata": {},
   "source": [
    "Model B's Train and Validation Accuracies"
   ]
  },
  {
   "cell_type": "code",
   "execution_count": 36,
   "metadata": {},
   "outputs": [
    {
     "name": "stdout",
     "output_type": "stream",
     "text": [
      "Training Accuracy: 0.9419199824333191\n",
      "Validation Accuracy: 0.9286999702453613\n"
     ]
    }
   ],
   "source": [
    "print(f'Training Accuracy: {max(historyB.history[\"accuracy\"])}')\n",
    "print(f'Validation Accuracy: {max(historyB.history[\"val_accuracy\"])}')"
   ]
  },
  {
   "cell_type": "markdown",
   "metadata": {},
   "source": [
    "Model B's Train and Validation Losses"
   ]
  },
  {
   "cell_type": "code",
   "execution_count": 37,
   "metadata": {},
   "outputs": [
    {
     "name": "stdout",
     "output_type": "stream",
     "text": [
      "Training Loss: 0.15604497492313385\n",
      "Validation Loss: 0.20832790434360504\n"
     ]
    }
   ],
   "source": [
    "print(f'Training Loss: {min(historyB.history[\"loss\"])}')\n",
    "print(f'Validation Loss: {min(historyB.history[\"val_loss\"])}')"
   ]
  },
  {
   "cell_type": "markdown",
   "metadata": {},
   "source": [
    "Saving Model B"
   ]
  },
  {
   "cell_type": "code",
   "execution_count": 38,
   "metadata": {},
   "outputs": [
    {
     "data": {
      "text/plain": [
       "<tensorflow.python.training.tracking.util.CheckpointLoadStatus at 0x24798f88a60>"
      ]
     },
     "execution_count": 38,
     "metadata": {},
     "output_type": "execute_result"
    }
   ],
   "source": [
    "modelB.load_weights('./Checkpoints/ModelB')"
   ]
  },
  {
   "cell_type": "code",
   "execution_count": 39,
   "metadata": {},
   "outputs": [
    {
     "name": "stderr",
     "output_type": "stream",
     "text": [
      "WARNING:absl:Found untraced functions such as _jit_compiled_convolution_op, _jit_compiled_convolution_op, _jit_compiled_convolution_op, _jit_compiled_convolution_op, _jit_compiled_convolution_op while saving (showing 5 of 12). These functions will not be directly callable after loading.\n"
     ]
    },
    {
     "name": "stdout",
     "output_type": "stream",
     "text": [
      "INFO:tensorflow:Assets written to: ./Models/ModelB\\assets\n"
     ]
    },
    {
     "name": "stderr",
     "output_type": "stream",
     "text": [
      "INFO:tensorflow:Assets written to: ./Models/ModelB\\assets\n"
     ]
    }
   ],
   "source": [
    "modelB.save('./Models/ModelB')"
   ]
  },
  {
   "cell_type": "markdown",
   "metadata": {},
   "source": [
    "Clearing Session"
   ]
  },
  {
   "cell_type": "code",
   "execution_count": 40,
   "metadata": {},
   "outputs": [],
   "source": [
    "tf.keras.backend.clear_session()"
   ]
  },
  {
   "cell_type": "markdown",
   "metadata": {},
   "source": [
    "# Testing Candidate Models #\n",
    "Loading and Evaluating Models"
   ]
  },
  {
   "cell_type": "code",
   "execution_count": 41,
   "metadata": {},
   "outputs": [
    {
     "name": "stdout",
     "output_type": "stream",
     "text": [
      "157/157 [==============================] - 2s 10ms/step - loss: 0.2533 - accuracy: 0.9093\n",
      "Loss for ModelA: 0.25331681966781616\n",
      "Accuracy for ModelA: 0.9093000292778015\n"
     ]
    }
   ],
   "source": [
    "modelA = tf.keras.models.load_model('./Models/ModelA/')\n",
    "\n",
    "evalA = modelA.evaluate(testDS)\n",
    "\n",
    "print(f'Loss for ModelA: {evalA[0]}')\n",
    "print(f'Accuracy for ModelA: {evalA[1]}')"
   ]
  },
  {
   "cell_type": "code",
   "execution_count": 42,
   "metadata": {},
   "outputs": [
    {
     "name": "stdout",
     "output_type": "stream",
     "text": [
      "157/157 [==============================] - 3s 15ms/step - loss: 0.2220 - accuracy: 0.9228\n",
      "Loss for ModelB: 0.22200249135494232\n",
      "Accuracy for ModelB: 0.9228000044822693\n"
     ]
    }
   ],
   "source": [
    "modelB = tf.keras.models.load_model('./Models/ModelB/')\n",
    "\n",
    "evalB = modelB.evaluate(testDS)\n",
    "\n",
    "print(f'Loss for ModelB: {evalB[0]}')\n",
    "print(f'Accuracy for ModelB: {evalB[1]}')"
   ]
  },
  {
   "cell_type": "markdown",
   "metadata": {},
   "source": [
    "# The Final Model #\n",
    "The final model from the candidate models will be Model B as on the final evaluation as it performs the best in terms of both accuracy and loss and the learning curves for the training set and validation set are also less volatile as compared to Model A and it is closer to each other  \n",
    "Now I will move on to model understanding and see how does the model determines its outputs from images\n",
    "\n",
    "<img src='Images/ModelB_Arch.png' width='300' height='500' style='display:block; margin: auto'/>\n",
    "<p style='text-align: center'>\n",
    "    <b>Model B Architecture</b>\n",
    "</p>"
   ]
  },
  {
   "cell_type": "markdown",
   "metadata": {},
   "source": [
    "Loading the Model"
   ]
  },
  {
   "cell_type": "code",
   "execution_count": 43,
   "metadata": {},
   "outputs": [],
   "source": [
    "modelB = tf.keras.models.load_model('./Models/ModelB/')"
   ]
  },
  {
   "cell_type": "markdown",
   "metadata": {},
   "source": [
    "# Model Understanding #"
   ]
  },
  {
   "cell_type": "markdown",
   "metadata": {},
   "source": [
    "## Implementing Integrated Gradients ##\n",
    "Uses  \n",
    "-   Helps develop intuition for how and why it works\n",
    "-   If features highlighted does not match intuition, it may mean that there is a bug in the model or dataset or may be indicative of overfitting\n",
    "\n",
    "Limitations  \n",
    "-   Only provides feature importance on individual examples and therefore does not provide global feature importance across datasets  \n",
    "-   Only provides individual feature importance and therefore does not explain feature interactions and combinations"
   ]
  },
  {
   "cell_type": "markdown",
   "metadata": {},
   "source": [
    "### Establishing a baseline image ###\n",
    "\n",
    "Just going to be a black 28 * 28 * 1 image for now so that it will be the same as the input image"
   ]
  },
  {
   "cell_type": "code",
   "execution_count": 44,
   "metadata": {},
   "outputs": [],
   "source": [
    "baseline = tf.zeros(shape=(28, 28, 1))"
   ]
  },
  {
   "cell_type": "code",
   "execution_count": 45,
   "metadata": {},
   "outputs": [
    {
     "data": {
      "image/png": "[encoded data removed]",
      "text/plain": [
       "<Figure size 432x288 with 1 Axes>"
      ]
     },
     "metadata": {
      "needs_background": "light"
     },
     "output_type": "display_data"
    }
   ],
   "source": [
    "plt.imshow(baseline, cmap='gray')\n",
    "plt.title(\"Baseline\")\n",
    "plt.axis('off')\n",
    "plt.show()"
   ]
  },
  {
   "cell_type": "markdown",
   "metadata": {},
   "source": [
    "### Interpolate Images ###"
   ]
  },
  {
   "cell_type": "code",
   "execution_count": 46,
   "metadata": {},
   "outputs": [],
   "source": [
    "def interpolate_images(baseline, image, alphas):\n",
    "  alphas_x = alphas[:, tf.newaxis, tf.newaxis, tf.newaxis]\n",
    "  baseline_x = tf.expand_dims(baseline, axis=0)\n",
    "  input_x = tf.expand_dims(image, axis=0)\n",
    "  delta = input_x - baseline_x\n",
    "  images = baseline_x +  alphas_x * delta\n",
    "  \n",
    "  return images"
   ]
  },
  {
   "cell_type": "markdown",
   "metadata": {},
   "source": [
    "### Compute Gradients ###"
   ]
  },
  {
   "cell_type": "code",
   "execution_count": 47,
   "metadata": {},
   "outputs": [],
   "source": [
    "def compute_gradients(images, target_class_idx):\n",
    "  with tf.GradientTape() as tape:\n",
    "    tape.watch(images)\n",
    "    probs = modelB(images)\n",
    "    \n",
    "  return tape.gradient(probs, images)"
   ]
  },
  {
   "cell_type": "markdown",
   "metadata": {},
   "source": [
    "### Integral Approximation ###"
   ]
  },
  {
   "cell_type": "code",
   "execution_count": 48,
   "metadata": {},
   "outputs": [],
   "source": [
    "def integral_approximation(gradients):\n",
    "  # riemann_trapezoidal\n",
    "  grads = (gradients[:-1] + gradients[1:]) / tf.constant(2.0)\n",
    "  integrated_gradients = tf.math.reduce_mean(grads, axis=0)\n",
    "  \n",
    "  return integrated_gradients"
   ]
  },
  {
   "cell_type": "markdown",
   "metadata": {},
   "source": [
    "### Putting it all together ###\n",
    "\n",
    "Combines the 3 previous parts together into a function called Integrated Gradients and will use a @tf.function decorator to compile it into a high performance TensorFlow graph  \n",
    "\n",
    "$$\n",
    "IntegratedGrads^{approx}_{i}(x)::=\\overbrace{(x_{i}-x'_{i})}^\\text{5.}\\times \\overbrace{\\sum_{k=1}^{m} }^\\text{4.} \\frac{\\partial \\overbrace{F(\\overbrace{x' + \\overbrace{\\frac{k}{m} }^\\text{1.}\\times(x - x'))}^\\text{2.} }^\\text{3.} }{\\partial x_{i} } \\times \\overbrace{\\frac{1}{m} }^\\text{4.}\n",
    "$$\n",
    "\n",
    "#### Steps ####\n",
    "1. Generate alphas\n",
    "2. Generate interpolated images = $(x' + \\frac{k}{m}\\times(x - x'))$\n",
    "3. Compute gradients between model $F$ output predictions with respect to input features = $\\frac{\\partial F(\\text{interpolated path inputs})}{\\partial x_{i} }$\n",
    "4. Integral approximation through averaging gradients = $\\sum_{k=1}^m \\text{gradients} \\times \\frac{1}{m}$\n",
    "5. Scale integrated gradients with respect to original image = $(x_{i}-x'_{i}) \\times \\text{integrated gradients}$. The reason this step is necessary is to make sure that the attribution values accumulated across multiple interpolated images are in the same units and faithfully represent the pixel importances on the original image."
   ]
  },
  {
   "cell_type": "code",
   "execution_count": 50,
   "metadata": {},
   "outputs": [],
   "source": [
    "@tf.function\n",
    "def one_batch(baseline, image, alpha_batch, target_class_idx):\n",
    "    # Generate interpolated inputs between baseline and input.\n",
    "    interpolated_path_input_batch = interpolate_images(baseline=baseline, image=image, alphas=alpha_batch)\n",
    "\n",
    "    # Compute gradients between model outputs and interpolated inputs.\n",
    "    gradient_batch = compute_gradients(images=interpolated_path_input_batch, target_class_idx=target_class_idx)\n",
    "    \n",
    "    return gradient_batch"
   ]
  },
  {
   "cell_type": "code",
   "execution_count": 51,
   "metadata": {},
   "outputs": [],
   "source": [
    "def integrated_gradients(baseline, image, target_class_idx, m_steps=50, batch_size=32):\n",
    "  # Generate alphas.\n",
    "  alphas = tf.linspace(start=0.0, stop=1.0, num=m_steps+1)\n",
    "\n",
    "  # Collect gradients.    \n",
    "  gradient_batches = []\n",
    "\n",
    "  # Iterate alphas range and batch computation for speed, memory efficiency, and scaling to larger m_steps.\n",
    "  for alpha in tf.range(0, len(alphas), batch_size):\n",
    "    from_ = alpha\n",
    "    to = tf.minimum(from_ + batch_size, len(alphas))\n",
    "    alpha_batch = alphas[from_:to]\n",
    "\n",
    "    gradient_batch = one_batch(baseline, image, alpha_batch, target_class_idx)\n",
    "    gradient_batches.append(gradient_batch)\n",
    "\n",
    "  # Concatenate path gradients together row-wise into single tensor.\n",
    "  total_gradients = tf.concat(gradient_batches, axis=0)\n",
    "\n",
    "  # Integral approximation through averaging gradients.\n",
    "  avg_gradients = integral_approximation(gradients=total_gradients)\n",
    "\n",
    "  # Scale integrated gradients with respect to input.\n",
    "  integrated_gradients = (image - baseline) * avg_gradients\n",
    "\n",
    "  return integrated_gradients"
   ]
  },
  {
   "cell_type": "code",
   "execution_count": 52,
   "metadata": {},
   "outputs": [],
   "source": [
    "def plot_img_attributions(baseline, image, target_class_idx, m_steps=50, cmap=None, overlay_alpha=0.4):\n",
    "\n",
    "  attributions = integrated_gradients(baseline=baseline, image=image, target_class_idx=target_class_idx, m_steps=m_steps)\n",
    "\n",
    "  # Sum of the attributions across color channels for visualization.\n",
    "  # The attribution mask shape is a grayscale image with height and width\n",
    "  # equal to the original image.\n",
    "  attribution_mask = tf.reduce_sum(tf.math.abs(attributions), axis=-1)\n",
    "\n",
    "  fig, axs = plt.subplots(nrows=2, ncols=2, squeeze=False, figsize=(8, 8))\n",
    "\n",
    "  axs[0, 0].set_title('Baseline image')\n",
    "  axs[0, 0].imshow(baseline, cmap=cmap)\n",
    "  axs[0, 0].axis('off')\n",
    "\n",
    "  axs[0, 1].set_title('Original image')\n",
    "  axs[0, 1].imshow(image, cmap=cmap)\n",
    "  axs[0, 1].axis('off')\n",
    "\n",
    "  axs[1, 0].set_title('Attribution mask')\n",
    "  axs[1, 0].imshow(attribution_mask, cmap=cmap)\n",
    "  axs[1, 0].axis('off')\n",
    "\n",
    "  axs[1, 1].set_title('Overlay')\n",
    "  axs[1, 1].imshow(attribution_mask, cmap=cmap)\n",
    "  axs[1, 1].imshow(image, alpha=overlay_alpha)\n",
    "  axs[1, 1].axis('off')\n",
    "\n",
    "  plt.tight_layout()\n",
    "  \n",
    "  return fig"
   ]
  },
  {
   "cell_type": "code",
   "execution_count": 53,
   "metadata": {},
   "outputs": [
    {
     "data": {
      "image/png": "[encoded data removed]",
      "text/plain": [
       "<Figure size 576x576 with 4 Axes>"
      ]
     },
     "metadata": {
      "needs_background": "light"
     },
     "output_type": "display_data"
    }
   ],
   "source": [
    "_ = plot_img_attributions(image=np.expand_dims(X_test[0], 2).astype('float32'), baseline=baseline, target_class_idx=y_test[0], m_steps=240, cmap='gray', overlay_alpha=0.4)"
   ]
  },
  {
   "cell_type": "code",
   "execution_count": 54,
   "metadata": {},
   "outputs": [
    {
     "data": {
      "image/png": "[encoded data removed]",
      "text/plain": [
       "<Figure size 576x576 with 4 Axes>"
      ]
     },
     "metadata": {
      "needs_background": "light"
     },
     "output_type": "display_data"
    }
   ],
   "source": [
    "_ = plot_img_attributions(image=np.expand_dims(X_test[9], 2).astype('float32'), baseline=baseline, target_class_idx=y_test[9], m_steps=240, cmap='gray', overlay_alpha=0.4)"
   ]
  },
  {
   "cell_type": "code",
   "execution_count": 55,
   "metadata": {},
   "outputs": [
    {
     "data": {
      "image/png": "[encoded data removed]",
      "text/plain": [
       "<Figure size 576x576 with 4 Axes>"
      ]
     },
     "metadata": {
      "needs_background": "light"
     },
     "output_type": "display_data"
    }
   ],
   "source": [
    "_ = plot_img_attributions(image=np.expand_dims(X_test[4], 2).astype('float32'), baseline=baseline, target_class_idx=y_test[4], m_steps=240, cmap='gray', overlay_alpha=0.4)"
   ]
  },
  {
   "cell_type": "markdown",
   "metadata": {},
   "source": [
    "By using integrated gradients, it can be seen that the model has a reason why and how it predicts its outputs, which is the outline of the clothing item"
   ]
  }
 ],
 "metadata": {
  "kernelspec": {
   "display_name": "Python 3 (ipykernel)",
   "language": "python",
   "name": "python3"
  },
  "language_info": {
   "codemirror_mode": {
    "name": "ipython",
    "version": 3
   },
   "file_extension": ".py",
   "mimetype": "text/x-python",
   "name": "python",
   "nbconvert_exporter": "python",
   "pygments_lexer": "ipython3",
   "version": "3.8.8"
  },
  "vscode": {
   "interpreter": {
    "hash": "fe015f2afc94d7e06f1aa2d040cd1970f37ba947899166158c834318637bdcf8"
   }
  }
 },
 "nbformat": 4,
 "nbformat_minor": 4
}
